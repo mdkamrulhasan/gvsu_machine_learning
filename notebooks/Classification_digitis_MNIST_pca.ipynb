{
  "nbformat": 4,
  "nbformat_minor": 0,
  "metadata": {
    "colab": {
      "provenance": [],
      "include_colab_link": true
    },
    "kernelspec": {
      "name": "python3",
      "display_name": "Python 3"
    },
    "language_info": {
      "name": "python"
    }
  },
  "cells": [
    {
      "cell_type": "markdown",
      "metadata": {
        "id": "view-in-github",
        "colab_type": "text"
      },
      "source": [
        "<a href=\"https://colab.research.google.com/github/mdkamrulhasan/gvsu_machine_learning/blob/main/notebooks/Classification_digitis_MNIST_pca.ipynb\" target=\"_parent\"><img src=\"https://colab.research.google.com/assets/colab-badge.svg\" alt=\"Open In Colab\"/></a>"
      ]
    },
    {
      "cell_type": "markdown",
      "source": [
        "What will we cover today ?\n",
        "\n",
        "\n",
        "1.   Linear Dimensionality Reduction\n",
        "\n",
        " *   Principal Component Analysis\n",
        " *   Model comparison with and without feature compression\n"
      ],
      "metadata": {
        "id": "FBRyAWfz-KuJ"
      }
    },
    {
      "cell_type": "code",
      "execution_count": null,
      "metadata": {
        "id": "03-NXl9m_dPA"
      },
      "outputs": [],
      "source": [
        "import numpy as np\n",
        "import pandas as pd\n",
        "# Models (Sklearn)\n",
        "from sklearn.linear_model import LogisticRegression\n",
        "from sklearn.ensemble import RandomForestClassifier, GradientBoostingClassifier\n",
        "from sklearn.naive_bayes import GaussianNB\n",
        "from sklearn.svm import SVC\n",
        "# Data and Evaluation packages\n",
        "from sklearn import datasets\n",
        "from sklearn.metrics import mean_squared_error\n",
        "from sklearn.metrics import accuracy_score\n",
        "# visualization\n",
        "import plotly.express as px\n",
        "from sklearn.model_selection import train_test_split"
      ]
    },
    {
      "cell_type": "markdown",
      "source": [
        "# Our Wrapper Class (Can take any model as an input)"
      ],
      "metadata": {
        "id": "gZH3V3LG-uqL"
      }
    },
    {
      "cell_type": "code",
      "source": [
        "from sklearn.model_selection import cross_val_score\n",
        "\n",
        "class myClassificationModel:\n",
        "  def __init__(self, model):\n",
        "    self.model = model\n",
        "    self.nb_cv_splits = 3\n",
        "    self.evaluation_metrics = 'accuracy' #'f1'\n",
        "\n",
        "  def train(self, X, y):\n",
        "    self.model.fit(X, y)\n",
        "\n",
        "  def evaluate(self, X, y):\n",
        "    y_predict = self.model.predict(X)\n",
        "    # return mean_squared_error(y, y_predict)\n",
        "    return accuracy_score(y, y_predict)\n",
        "\n",
        "  def cv_error(self, X, y):\n",
        "    return cross_val_score(self.model,\n",
        "                           X,\n",
        "                           y, scoring=self.evaluation_metrics,\n",
        "                           cv=self.nb_cv_splits)\n",
        "\n"
      ],
      "metadata": {
        "id": "5k6GS-4h-oW9"
      },
      "execution_count": null,
      "outputs": []
    },
    {
      "cell_type": "markdown",
      "source": [
        "# [Data description](https://archive.ics.uci.edu/dataset/80/optical+recognition+of+handwritten+digits)"
      ],
      "metadata": {
        "id": "WhUKTt3zUnSh"
      }
    },
    {
      "cell_type": "code",
      "source": [
        "# loading data and plotting\n",
        "from sklearn.datasets import load_digits\n",
        "df = load_digits(as_frame=True)\n",
        "print(df.data.shape)\n",
        "import matplotlib.pyplot as plt\n",
        "plt.gray()\n",
        "plt.matshow(df.images[0])\n",
        "plt.show()\n",
        "df.keys()"
      ],
      "metadata": {
        "colab": {
          "base_uri": "https://localhost:8080/",
          "height": 489
        },
        "id": "4s-U2y5DPOHR",
        "outputId": "6a33de34-9b78-4ef3-e4b0-f4fb034095ac"
      },
      "execution_count": 1,
      "outputs": [
        {
          "output_type": "stream",
          "name": "stdout",
          "text": [
            "(1797, 64)\n"
          ]
        },
        {
          "output_type": "display_data",
          "data": {
            "text/plain": [
              "<Figure size 640x480 with 0 Axes>"
            ]
          },
          "metadata": {}
        },
        {
          "output_type": "display_data",
          "data": {
            "text/plain": [
              "<Figure size 480x480 with 1 Axes>"
            ],
            "image/png": "[encoded data removed]"
          },
          "metadata": {}
        },
        {
          "output_type": "execute_result",
          "data": {
            "text/plain": [
              "dict_keys(['data', 'target', 'frame', 'feature_names', 'target_names', 'images', 'DESCR'])"
            ]
          },
          "metadata": {},
          "execution_count": 1
        }
      ]
    },
    {
      "cell_type": "code",
      "source": [
        "df.data.head()"
      ],
      "metadata": {
        "colab": {
          "base_uri": "https://localhost:8080/",
          "height": 255
        },
        "id": "7J7PEf7IL487",
        "outputId": "021827bc-b324-4da7-e8f9-aada3bdb1607"
      },
      "execution_count": null,
      "outputs": [
        {
          "output_type": "execute_result",
          "data": {
            "text/plain": [
              "   pixel_0_0  pixel_0_1  pixel_0_2  pixel_0_3  pixel_0_4  pixel_0_5  \\\n",
              "0        0.0        0.0        5.0       13.0        9.0        1.0   \n",
              "1        0.0        0.0        0.0       12.0       13.0        5.0   \n",
              "2        0.0        0.0        0.0        4.0       15.0       12.0   \n",
              "3        0.0        0.0        7.0       15.0       13.0        1.0   \n",
              "4        0.0        0.0        0.0        1.0       11.0        0.0   \n",
              "\n",
              "   pixel_0_6  pixel_0_7  pixel_1_0  pixel_1_1  ...  pixel_6_6  pixel_6_7  \\\n",
              "0        0.0        0.0        0.0        0.0  ...        0.0        0.0   \n",
              "1        0.0        0.0        0.0        0.0  ...        0.0        0.0   \n",
              "2        0.0        0.0        0.0        0.0  ...        5.0        0.0   \n",
              "3        0.0        0.0        0.0        8.0  ...        9.0        0.0   \n",
              "4        0.0        0.0        0.0        0.0  ...        0.0        0.0   \n",
              "\n",
              "   pixel_7_0  pixel_7_1  pixel_7_2  pixel_7_3  pixel_7_4  pixel_7_5  \\\n",
              "0        0.0        0.0        6.0       13.0       10.0        0.0   \n",
              "1        0.0        0.0        0.0       11.0       16.0       10.0   \n",
              "2        0.0        0.0        0.0        3.0       11.0       16.0   \n",
              "3        0.0        0.0        7.0       13.0       13.0        9.0   \n",
              "4        0.0        0.0        0.0        2.0       16.0        4.0   \n",
              "\n",
              "   pixel_7_6  pixel_7_7  \n",
              "0        0.0        0.0  \n",
              "1        0.0        0.0  \n",
              "2        9.0        0.0  \n",
              "3        0.0        0.0  \n",
              "4        0.0        0.0  \n",
              "\n",
              "[5 rows x 64 columns]"
            ],
            "text/html": [
              "\n",
              "  <div id=\"df-c2a83473-0a2d-4494-849c-666bdd8cc565\" class=\"colab-df-container\">\n",
              "    <div>\n",
              "<style scoped>\n",
              "    .dataframe tbody tr th:only-of-type {\n",
              "        vertical-align: middle;\n",
              "    }\n",
              "\n",
              "    .dataframe tbody tr th {\n",
              "        vertical-align: top;\n",
              "    }\n",
              "\n",
              "    .dataframe thead th {\n",
              "        text-align: right;\n",
              "    }\n",
              "</style>\n",
              "<table border=\"1\" class=\"dataframe\">\n",
              "  <thead>\n",
              "    <tr style=\"text-align: right;\">\n",
              "      <th></th>\n",
              "      <th>pixel_0_0</th>\n",
              "      <th>pixel_0_1</th>\n",
              "      <th>pixel_0_2</th>\n",
              "      <th>pixel_0_3</th>\n",
              "      <th>pixel_0_4</th>\n",
              "      <th>pixel_0_5</th>\n",
              "      <th>pixel_0_6</th>\n",
              "      <th>pixel_0_7</th>\n",
              "      <th>pixel_1_0</th>\n",
              "      <th>pixel_1_1</th>\n",
              "      <th>...</th>\n",
              "      <th>pixel_6_6</th>\n",
              "      <th>pixel_6_7</th>\n",
              "      <th>pixel_7_0</th>\n",
              "      <th>pixel_7_1</th>\n",
              "      <th>pixel_7_2</th>\n",
              "      <th>pixel_7_3</th>\n",
              "      <th>pixel_7_4</th>\n",
              "      <th>pixel_7_5</th>\n",
              "      <th>pixel_7_6</th>\n",
              "      <th>pixel_7_7</th>\n",
              "    </tr>\n",
              "  </thead>\n",
              "  <tbody>\n",
              "    <tr>\n",
              "      <th>0</th>\n",
              "      <td>0.0</td>\n",
              "      <td>0.0</td>\n",
              "      <td>5.0</td>\n",
              "      <td>13.0</td>\n",
              "      <td>9.0</td>\n",
              "      <td>1.0</td>\n",
              "      <td>0.0</td>\n",
              "      <td>0.0</td>\n",
              "      <td>0.0</td>\n",
              "      <td>0.0</td>\n",
              "      <td>...</td>\n",
              "      <td>0.0</td>\n",
              "      <td>0.0</td>\n",
              "      <td>0.0</td>\n",
              "      <td>0.0</td>\n",
              "      <td>6.0</td>\n",
              "      <td>13.0</td>\n",
              "      <td>10.0</td>\n",
              "      <td>0.0</td>\n",
              "      <td>0.0</td>\n",
              "      <td>0.0</td>\n",
              "    </tr>\n",
              "    <tr>\n",
              "      <th>1</th>\n",
              "      <td>0.0</td>\n",
              "      <td>0.0</td>\n",
              "      <td>0.0</td>\n",
              "      <td>12.0</td>\n",
              "      <td>13.0</td>\n",
              "      <td>5.0</td>\n",
              "      <td>0.0</td>\n",
              "      <td>0.0</td>\n",
              "      <td>0.0</td>\n",
              "      <td>0.0</td>\n",
              "      <td>...</td>\n",
              "      <td>0.0</td>\n",
              "      <td>0.0</td>\n",
              "      <td>0.0</td>\n",
              "      <td>0.0</td>\n",
              "      <td>0.0</td>\n",
              "      <td>11.0</td>\n",
              "      <td>16.0</td>\n",
              "      <td>10.0</td>\n",
              "      <td>0.0</td>\n",
              "      <td>0.0</td>\n",
              "    </tr>\n",
              "    <tr>\n",
              "      <th>2</th>\n",
              "      <td>0.0</td>\n",
              "      <td>0.0</td>\n",
              "      <td>0.0</td>\n",
              "      <td>4.0</td>\n",
              "      <td>15.0</td>\n",
              "      <td>12.0</td>\n",
              "      <td>0.0</td>\n",
              "      <td>0.0</td>\n",
              "      <td>0.0</td>\n",
              "      <td>0.0</td>\n",
              "      <td>...</td>\n",
              "      <td>5.0</td>\n",
              "      <td>0.0</td>\n",
              "      <td>0.0</td>\n",
              "      <td>0.0</td>\n",
              "      <td>0.0</td>\n",
              "      <td>3.0</td>\n",
              "      <td>11.0</td>\n",
              "      <td>16.0</td>\n",
              "      <td>9.0</td>\n",
              "      <td>0.0</td>\n",
              "    </tr>\n",
              "    <tr>\n",
              "      <th>3</th>\n",
              "      <td>0.0</td>\n",
              "      <td>0.0</td>\n",
              "      <td>7.0</td>\n",
              "      <td>15.0</td>\n",
              "      <td>13.0</td>\n",
              "      <td>1.0</td>\n",
              "      <td>0.0</td>\n",
              "      <td>0.0</td>\n",
              "      <td>0.0</td>\n",
              "      <td>8.0</td>\n",
              "      <td>...</td>\n",
              "      <td>9.0</td>\n",
              "      <td>0.0</td>\n",
              "      <td>0.0</td>\n",
              "      <td>0.0</td>\n",
              "      <td>7.0</td>\n",
              "      <td>13.0</td>\n",
              "      <td>13.0</td>\n",
              "      <td>9.0</td>\n",
              "      <td>0.0</td>\n",
              "      <td>0.0</td>\n",
              "    </tr>\n",
              "    <tr>\n",
              "      <th>4</th>\n",
              "      <td>0.0</td>\n",
              "      <td>0.0</td>\n",
              "      <td>0.0</td>\n",
              "      <td>1.0</td>\n",
              "      <td>11.0</td>\n",
              "      <td>0.0</td>\n",
              "      <td>0.0</td>\n",
              "      <td>0.0</td>\n",
              "      <td>0.0</td>\n",
              "      <td>0.0</td>\n",
              "      <td>...</td>\n",
              "      <td>0.0</td>\n",
              "      <td>0.0</td>\n",
              "      <td>0.0</td>\n",
              "      <td>0.0</td>\n",
              "      <td>0.0</td>\n",
              "      <td>2.0</td>\n",
              "      <td>16.0</td>\n",
              "      <td>4.0</td>\n",
              "      <td>0.0</td>\n",
              "      <td>0.0</td>\n",
              "    </tr>\n",
              "  </tbody>\n",
              "</table>\n",
              "<p>5 rows × 64 columns</p>\n",
              "</div>\n",
              "    <div class=\"colab-df-buttons\">\n",
              "\n",
              "  <div class=\"colab-df-container\">\n",
              "    <button class=\"colab-df-convert\" onclick=\"convertToInteractive('df-c2a83473-0a2d-4494-849c-666bdd8cc565')\"\n",
              "            title=\"Convert this dataframe to an interactive table.\"\n",
              "            style=\"display:none;\">\n",
              "\n",
              "  <svg xmlns=\"http://www.w3.org/2000/svg\" height=\"24px\" viewBox=\"0 -960 960 960\">\n",
              "    <path d=\"M120-120v-720h720v720H120Zm60-500h600v-160H180v160Zm220 220h160v-160H400v160Zm0 220h160v-160H400v160ZM180-400h160v-160H180v160Zm440 0h160v-160H620v160ZM180-180h160v-160H180v160Zm440 0h160v-160H620v160Z\"/>\n",
              "  </svg>\n",
              "    </button>\n",
              "\n",
              "  <style>\n",
              "    .colab-df-container {\n",
              "      display:flex;\n",
              "      gap: 12px;\n",
              "    }\n",
              "\n",
              "    .colab-df-convert {\n",
              "      background-color: #E8F0FE;\n",
              "      border: none;\n",
              "      border-radius: 50%;\n",
              "      cursor: pointer;\n",
              "      display: none;\n",
              "      fill: #1967D2;\n",
              "      height: 32px;\n",
              "      padding: 0 0 0 0;\n",
              "      width: 32px;\n",
              "    }\n",
              "\n",
              "    .colab-df-convert:hover {\n",
              "      background-color: #E2EBFA;\n",
              "      box-shadow: 0px 1px 2px rgba(60, 64, 67, 0.3), 0px 1px 3px 1px rgba(60, 64, 67, 0.15);\n",
              "      fill: #174EA6;\n",
              "    }\n",
              "\n",
              "    .colab-df-buttons div {\n",
              "      margin-bottom: 4px;\n",
              "    }\n",
              "\n",
              "    [theme=dark] .colab-df-convert {\n",
              "      background-color: #3B4455;\n",
              "      fill: #D2E3FC;\n",
              "    }\n",
              "\n",
              "    [theme=dark] .colab-df-convert:hover {\n",
              "      background-color: #434B5C;\n",
              "      box-shadow: 0px 1px 3px 1px rgba(0, 0, 0, 0.15);\n",
              "      filter: drop-shadow(0px 1px 2px rgba(0, 0, 0, 0.3));\n",
              "      fill: #FFFFFF;\n",
              "    }\n",
              "  </style>\n",
              "\n",
              "    <script>\n",
              "      const buttonEl =\n",
              "        document.querySelector('#df-c2a83473-0a2d-4494-849c-666bdd8cc565 button.colab-df-convert');\n",
              "      buttonEl.style.display =\n",
              "        google.colab.kernel.accessAllowed ? 'block' : 'none';\n",
              "\n",
              "      async function convertToInteractive(key) {\n",
              "        const element = document.querySelector('#df-c2a83473-0a2d-4494-849c-666bdd8cc565');\n",
              "        const dataTable =\n",
              "          await google.colab.kernel.invokeFunction('convertToInteractive',\n",
              "                                                    [key], {});\n",
              "        if (!dataTable) return;\n",
              "\n",
              "        const docLinkHtml = 'Like what you see? Visit the ' +\n",
              "          '<a target=\"_blank\" href=https://colab.research.google.com/notebooks/data_table.ipynb>data table notebook</a>'\n",
              "          + ' to learn more about interactive tables.';\n",
              "        element.innerHTML = '';\n",
              "        dataTable['output_type'] = 'display_data';\n",
              "        await google.colab.output.renderOutput(dataTable, element);\n",
              "        const docLink = document.createElement('div');\n",
              "        docLink.innerHTML = docLinkHtml;\n",
              "        element.appendChild(docLink);\n",
              "      }\n",
              "    </script>\n",
              "  </div>\n",
              "\n",
              "\n",
              "<div id=\"df-39d65e69-761c-4b3f-a45b-6b08af351126\">\n",
              "  <button class=\"colab-df-quickchart\" onclick=\"quickchart('df-39d65e69-761c-4b3f-a45b-6b08af351126')\"\n",
              "            title=\"Suggest charts\"\n",
              "            style=\"display:none;\">\n",
              "\n",
              "<svg xmlns=\"http://www.w3.org/2000/svg\" height=\"24px\"viewBox=\"0 0 24 24\"\n",
              "     width=\"24px\">\n",
              "    <g>\n",
              "        <path d=\"M19 3H5c-1.1 0-2 .9-2 2v14c0 1.1.9 2 2 2h14c1.1 0 2-.9 2-2V5c0-1.1-.9-2-2-2zM9 17H7v-7h2v7zm4 0h-2V7h2v10zm4 0h-2v-4h2v4z\"/>\n",
              "    </g>\n",
              "</svg>\n",
              "  </button>\n",
              "\n",
              "<style>\n",
              "  .colab-df-quickchart {\n",
              "      --bg-color: #E8F0FE;\n",
              "      --fill-color: #1967D2;\n",
              "      --hover-bg-color: #E2EBFA;\n",
              "      --hover-fill-color: #174EA6;\n",
              "      --disabled-fill-color: #AAA;\n",
              "      --disabled-bg-color: #DDD;\n",
              "  }\n",
              "\n",
              "  [theme=dark] .colab-df-quickchart {\n",
              "      --bg-color: #3B4455;\n",
              "      --fill-color: #D2E3FC;\n",
              "      --hover-bg-color: #434B5C;\n",
              "      --hover-fill-color: #FFFFFF;\n",
              "      --disabled-bg-color: #3B4455;\n",
              "      --disabled-fill-color: #666;\n",
              "  }\n",
              "\n",
              "  .colab-df-quickchart {\n",
              "    background-color: var(--bg-color);\n",
              "    border: none;\n",
              "    border-radius: 50%;\n",
              "    cursor: pointer;\n",
              "    display: none;\n",
              "    fill: var(--fill-color);\n",
              "    height: 32px;\n",
              "    padding: 0;\n",
              "    width: 32px;\n",
              "  }\n",
              "\n",
              "  .colab-df-quickchart:hover {\n",
              "    background-color: var(--hover-bg-color);\n",
              "    box-shadow: 0 1px 2px rgba(60, 64, 67, 0.3), 0 1px 3px 1px rgba(60, 64, 67, 0.15);\n",
              "    fill: var(--button-hover-fill-color);\n",
              "  }\n",
              "\n",
              "  .colab-df-quickchart-complete:disabled,\n",
              "  .colab-df-quickchart-complete:disabled:hover {\n",
              "    background-color: var(--disabled-bg-color);\n",
              "    fill: var(--disabled-fill-color);\n",
              "    box-shadow: none;\n",
              "  }\n",
              "\n",
              "  .colab-df-spinner {\n",
              "    border: 2px solid var(--fill-color);\n",
              "    border-color: transparent;\n",
              "    border-bottom-color: var(--fill-color);\n",
              "    animation:\n",
              "      spin 1s steps(1) infinite;\n",
              "  }\n",
              "\n",
              "  @keyframes spin {\n",
              "    0% {\n",
              "      border-color: transparent;\n",
              "      border-bottom-color: var(--fill-color);\n",
              "      border-left-color: var(--fill-color);\n",
              "    }\n",
              "    20% {\n",
              "      border-color: transparent;\n",
              "      border-left-color: var(--fill-color);\n",
              "      border-top-color: var(--fill-color);\n",
              "    }\n",
              "    30% {\n",
              "      border-color: transparent;\n",
              "      border-left-color: var(--fill-color);\n",
              "      border-top-color: var(--fill-color);\n",
              "      border-right-color: var(--fill-color);\n",
              "    }\n",
              "    40% {\n",
              "      border-color: transparent;\n",
              "      border-right-color: var(--fill-color);\n",
              "      border-top-color: var(--fill-color);\n",
              "    }\n",
              "    60% {\n",
              "      border-color: transparent;\n",
              "      border-right-color: var(--fill-color);\n",
              "    }\n",
              "    80% {\n",
              "      border-color: transparent;\n",
              "      border-right-color: var(--fill-color);\n",
              "      border-bottom-color: var(--fill-color);\n",
              "    }\n",
              "    90% {\n",
              "      border-color: transparent;\n",
              "      border-bottom-color: var(--fill-color);\n",
              "    }\n",
              "  }\n",
              "</style>\n",
              "\n",
              "  <script>\n",
              "    async function quickchart(key) {\n",
              "      const quickchartButtonEl =\n",
              "        document.querySelector('#' + key + ' button');\n",
              "      quickchartButtonEl.disabled = true;  // To prevent multiple clicks.\n",
              "      quickchartButtonEl.classList.add('colab-df-spinner');\n",
              "      try {\n",
              "        const charts = await google.colab.kernel.invokeFunction(\n",
              "            'suggestCharts', [key], {});\n",
              "      } catch (error) {\n",
              "        console.error('Error during call to suggestCharts:', error);\n",
              "      }\n",
              "      quickchartButtonEl.classList.remove('colab-df-spinner');\n",
              "      quickchartButtonEl.classList.add('colab-df-quickchart-complete');\n",
              "    }\n",
              "    (() => {\n",
              "      let quickchartButtonEl =\n",
              "        document.querySelector('#df-39d65e69-761c-4b3f-a45b-6b08af351126 button');\n",
              "      quickchartButtonEl.style.display =\n",
              "        google.colab.kernel.accessAllowed ? 'block' : 'none';\n",
              "    })();\n",
              "  </script>\n",
              "</div>\n",
              "    </div>\n",
              "  </div>\n"
            ],
            "application/vnd.google.colaboratory.intrinsic+json": {
              "type": "dataframe"
            }
          },
          "metadata": {},
          "execution_count": 4
        }
      ]
    },
    {
      "cell_type": "code",
      "source": [
        "X, y = load_digits(return_X_y=True)\n",
        "X.shape, y.shape"
      ],
      "metadata": {
        "colab": {
          "base_uri": "https://localhost:8080/"
        },
        "id": "NBfvYkH5LSEW",
        "outputId": "e1237077-d6bd-4c9b-fada-da01d8913707"
      },
      "execution_count": null,
      "outputs": [
        {
          "output_type": "execute_result",
          "data": {
            "text/plain": [
              "((1797, 64), (1797,))"
            ]
          },
          "metadata": {},
          "execution_count": 5
        }
      ]
    },
    {
      "cell_type": "markdown",
      "source": [
        "## Unique y values (i.e the labels)"
      ],
      "metadata": {
        "id": "_WAO-2Lz2bre"
      }
    },
    {
      "cell_type": "code",
      "source": [
        "set(y)"
      ],
      "metadata": {
        "colab": {
          "base_uri": "https://localhost:8080/"
        },
        "id": "dKP4ET432fn8",
        "outputId": "3f7a5059-d8c7-4f9a-e993-1c336f4492a8"
      },
      "execution_count": null,
      "outputs": [
        {
          "output_type": "execute_result",
          "data": {
            "text/plain": [
              "{0, 1, 2, 3, 4, 5, 6, 7, 8, 9}"
            ]
          },
          "metadata": {},
          "execution_count": 6
        }
      ]
    },
    {
      "cell_type": "markdown",
      "source": [
        "## Are the feature values scaled/normalized ?"
      ],
      "metadata": {
        "id": "zv_92Vp65AtP"
      }
    },
    {
      "cell_type": "code",
      "source": [
        "X.min(), X.max()"
      ],
      "metadata": {
        "colab": {
          "base_uri": "https://localhost:8080/"
        },
        "id": "qHL9vFmp374V",
        "outputId": "52a97e91-731e-4082-d704-55cd4d407743"
      },
      "execution_count": null,
      "outputs": [
        {
          "output_type": "execute_result",
          "data": {
            "text/plain": [
              "(0.0, 16.0)"
            ]
          },
          "metadata": {},
          "execution_count": 7
        }
      ]
    },
    {
      "cell_type": "markdown",
      "source": [
        "## Lets normalize the features."
      ],
      "metadata": {
        "id": "KZJPi6Ww5INQ"
      }
    },
    {
      "cell_type": "code",
      "source": [
        "from sklearn.preprocessing import MinMaxScaler\n",
        "feature_scaler = MinMaxScaler()\n",
        "X_scaled = feature_scaler.fit_transform(X)"
      ],
      "metadata": {
        "id": "SPsyFqcT3w2X"
      },
      "execution_count": null,
      "outputs": []
    },
    {
      "cell_type": "code",
      "source": [
        "X_scaled.min(), X_scaled.max()"
      ],
      "metadata": {
        "colab": {
          "base_uri": "https://localhost:8080/"
        },
        "id": "fXfbExgX4A7A",
        "outputId": "78d0e97c-f51d-4534-d37b-35e6224b9c2b"
      },
      "execution_count": null,
      "outputs": [
        {
          "output_type": "execute_result",
          "data": {
            "text/plain": [
              "(0.0, 1.0)"
            ]
          },
          "metadata": {},
          "execution_count": 9
        }
      ]
    },
    {
      "cell_type": "code",
      "source": [
        "# make sure X is scaled\n",
        "X = X_scaled"
      ],
      "metadata": {
        "id": "09P_wF7O4JQz"
      },
      "execution_count": null,
      "outputs": []
    },
    {
      "cell_type": "markdown",
      "source": [
        "# Imporing and fitting the PCA model"
      ],
      "metadata": {
        "id": "NTRvB0ct3vbF"
      }
    },
    {
      "cell_type": "code",
      "source": [
        "# importing PCA module\n",
        "from sklearn.decomposition import PCA"
      ],
      "metadata": {
        "id": "5U4b3WgU4TiA"
      },
      "execution_count": null,
      "outputs": []
    },
    {
      "cell_type": "code",
      "source": [
        "# fitting the PCA model\n",
        "pca = PCA(n_components=34)\n",
        "pca.fit(X)"
      ],
      "metadata": {
        "colab": {
          "base_uri": "https://localhost:8080/",
          "height": 74
        },
        "id": "_59q-IWf3q0e",
        "outputId": "874bc7f6-ae1c-4a71-8f77-c609e69c1740"
      },
      "execution_count": null,
      "outputs": [
        {
          "output_type": "execute_result",
          "data": {
            "text/plain": [
              "PCA(n_components=34)"
            ],
            "text/html": [
              "<style>#sk-container-id-1 {color: black;background-color: white;}#sk-container-id-1 pre{padding: 0;}#sk-container-id-1 div.sk-toggleable {background-color: white;}#sk-container-id-1 label.sk-toggleable__label {cursor: pointer;display: block;width: 100%;margin-bottom: 0;padding: 0.3em;box-sizing: border-box;text-align: center;}#sk-container-id-1 label.sk-toggleable__label-arrow:before {content: \"▸\";float: left;margin-right: 0.25em;color: #696969;}#sk-container-id-1 label.sk-toggleable__label-arrow:hover:before {color: black;}#sk-container-id-1 div.sk-estimator:hover label.sk-toggleable__label-arrow:before {color: black;}#sk-container-id-1 div.sk-toggleable__content {max-height: 0;max-width: 0;overflow: hidden;text-align: left;background-color: #f0f8ff;}#sk-container-id-1 div.sk-toggleable__content pre {margin: 0.2em;color: black;border-radius: 0.25em;background-color: #f0f8ff;}#sk-container-id-1 input.sk-toggleable__control:checked~div.sk-toggleable__content {max-height: 200px;max-width: 100%;overflow: auto;}#sk-container-id-1 input.sk-toggleable__control:checked~label.sk-toggleable__label-arrow:before {content: \"▾\";}#sk-container-id-1 div.sk-estimator input.sk-toggleable__control:checked~label.sk-toggleable__label {background-color: #d4ebff;}#sk-container-id-1 div.sk-label input.sk-toggleable__control:checked~label.sk-toggleable__label {background-color: #d4ebff;}#sk-container-id-1 input.sk-hidden--visually {border: 0;clip: rect(1px 1px 1px 1px);clip: rect(1px, 1px, 1px, 1px);height: 1px;margin: -1px;overflow: hidden;padding: 0;position: absolute;width: 1px;}#sk-container-id-1 div.sk-estimator {font-family: monospace;background-color: #f0f8ff;border: 1px dotted black;border-radius: 0.25em;box-sizing: border-box;margin-bottom: 0.5em;}#sk-container-id-1 div.sk-estimator:hover {background-color: #d4ebff;}#sk-container-id-1 div.sk-parallel-item::after {content: \"\";width: 100%;border-bottom: 1px solid gray;flex-grow: 1;}#sk-container-id-1 div.sk-label:hover label.sk-toggleable__label {background-color: #d4ebff;}#sk-container-id-1 div.sk-serial::before {content: \"\";position: absolute;border-left: 1px solid gray;box-sizing: border-box;top: 0;bottom: 0;left: 50%;z-index: 0;}#sk-container-id-1 div.sk-serial {display: flex;flex-direction: column;align-items: center;background-color: white;padding-right: 0.2em;padding-left: 0.2em;position: relative;}#sk-container-id-1 div.sk-item {position: relative;z-index: 1;}#sk-container-id-1 div.sk-parallel {display: flex;align-items: stretch;justify-content: center;background-color: white;position: relative;}#sk-container-id-1 div.sk-item::before, #sk-container-id-1 div.sk-parallel-item::before {content: \"\";position: absolute;border-left: 1px solid gray;box-sizing: border-box;top: 0;bottom: 0;left: 50%;z-index: -1;}#sk-container-id-1 div.sk-parallel-item {display: flex;flex-direction: column;z-index: 1;position: relative;background-color: white;}#sk-container-id-1 div.sk-parallel-item:first-child::after {align-self: flex-end;width: 50%;}#sk-container-id-1 div.sk-parallel-item:last-child::after {align-self: flex-start;width: 50%;}#sk-container-id-1 div.sk-parallel-item:only-child::after {width: 0;}#sk-container-id-1 div.sk-dashed-wrapped {border: 1px dashed gray;margin: 0 0.4em 0.5em 0.4em;box-sizing: border-box;padding-bottom: 0.4em;background-color: white;}#sk-container-id-1 div.sk-label label {font-family: monospace;font-weight: bold;display: inline-block;line-height: 1.2em;}#sk-container-id-1 div.sk-label-container {text-align: center;}#sk-container-id-1 div.sk-container {/* jupyter's `normalize.less` sets `[hidden] { display: none; }` but bootstrap.min.css set `[hidden] { display: none !important; }` so we also need the `!important` here to be able to override the default hidden behavior on the sphinx rendered scikit-learn.org. See: https://github.com/scikit-learn/scikit-learn/issues/21755 */display: inline-block !important;position: relative;}#sk-container-id-1 div.sk-text-repr-fallback {display: none;}</style><div id=\"sk-container-id-1\" class=\"sk-top-container\"><div class=\"sk-text-repr-fallback\"><pre>PCA(n_components=34)</pre><b>In a Jupyter environment, please rerun this cell to show the HTML representation or trust the notebook. <br />On GitHub, the HTML representation is unable to render, please try loading this page with nbviewer.org.</b></div><div class=\"sk-container\" hidden><div class=\"sk-item\"><div class=\"sk-estimator sk-toggleable\"><input class=\"sk-toggleable__control sk-hidden--visually\" id=\"sk-estimator-id-1\" type=\"checkbox\" checked><label for=\"sk-estimator-id-1\" class=\"sk-toggleable__label sk-toggleable__label-arrow\">PCA</label><div class=\"sk-toggleable__content\"><pre>PCA(n_components=34)</pre></div></div></div></div></div>"
            ]
          },
          "metadata": {},
          "execution_count": 12
        }
      ]
    },
    {
      "cell_type": "code",
      "source": [
        "# perform copression\n",
        "X_compressed = pca.transform(X)\n",
        "X.shape, X_compressed.shape"
      ],
      "metadata": {
        "colab": {
          "base_uri": "https://localhost:8080/"
        },
        "id": "pILrlA_x4Kol",
        "outputId": "58705b52-d330-4d21-c30b-ddad2d1e1b79"
      },
      "execution_count": null,
      "outputs": [
        {
          "output_type": "execute_result",
          "data": {
            "text/plain": [
              "((1797, 64), (1797, 34))"
            ]
          },
          "metadata": {},
          "execution_count": 13
        }
      ]
    },
    {
      "cell_type": "code",
      "source": [
        "# plotting the per component variances\n",
        "fig = px.bar(x=np.arange(X_compressed.shape[1]), y=pca.explained_variance_ratio_)\n",
        "fig.show()\n",
        "print(np.sum(pca.explained_variance_ratio_))"
      ],
      "metadata": {
        "colab": {
          "base_uri": "https://localhost:8080/",
          "height": 559
        },
        "id": "njlfDxnKAzaO",
        "outputId": "20161aec-1879-46c9-b1b3-082bd6f265cb"
      },
      "execution_count": null,
      "outputs": [
        {
          "output_type": "display_data",
          "data": {
            "text/html": [
              "<html>\n",
              "<head><meta charset=\"utf-8\" /></head>\n",
              "<body>\n",
              "    <div>            <script src=\"https://cdnjs.cloudflare.com/ajax/libs/mathjax/2.7.5/MathJax.js?config=TeX-AMS-MML_SVG\"></script><script type=\"text/javascript\">if (window.MathJax && window.MathJax.Hub && window.MathJax.Hub.Config) {window.MathJax.Hub.Config({SVG: {font: \"STIX-Web\"}});}</script>                <script type=\"text/javascript\">window.PlotlyConfig = {MathJaxConfig: 'local'};</script>\n",
              "        <script charset=\"utf-8\" src=\"https://cdn.plot.ly/plotly-2.24.1.min.js\"></script>                <div id=\"b6233933-ccef-4df8-9f17-b91c6a3f2da3\" class=\"plotly-graph-div\" style=\"height:525px; width:100%;\"></div>            <script type=\"text/javascript\">                                    window.PLOTLYENV=window.PLOTLYENV || {};                                    if (document.getElementById(\"b6233933-ccef-4df8-9f17-b91c6a3f2da3\")) {                    Plotly.newPlot(                        \"b6233933-ccef-4df8-9f17-b91c6a3f2da3\",                        [{\"alignmentgroup\":\"True\",\"hovertemplate\":\"x=%{x}\\u003cbr\\u003ey=%{y}\\u003cextra\\u003e\\u003c\\u002fextra\\u003e\",\"legendgroup\":\"\",\"marker\":{\"color\":\"#636efa\",\"pattern\":{\"shape\":\"\"}},\"name\":\"\",\"offsetgroup\":\"\",\"orientation\":\"v\",\"showlegend\":false,\"textposition\":\"auto\",\"x\":[0,1,2,3,4,5,6,7,8,9,10,11,12,13,14,15,16,17,18,19,20,21,22,23,24,25,26,27,28,29,30,31,32,33],\"xaxis\":\"x\",\"y\":[0.14815157382117838,0.13523675191284912,0.11706653762538981,0.08316524240481848,0.05736613163432903,0.04850090125083505,0.04252880610295254,0.03677515158304627,0.03323376396528633,0.030466342840782278,0.02359530509326272,0.022822858662573987,0.01821311842120432,0.0177337330650653,0.014585598178730595,0.013962722520197444,0.013100196856484676,0.012430182413547224,0.010203893512347854,0.009096040180308601,0.00890748975486663,0.007979843103310893,0.007884241286160268,0.007632102600062289,0.006902110815628229,0.005955992116684686,0.005767325074398444,0.00511264035113506,0.005008239035727419,0.0044249848059464865,0.003976596719166664,0.003777359732789373,0.0034331282268500506,0.0033101424248197374],\"yaxis\":\"y\",\"type\":\"bar\"}],                        {\"template\":{\"data\":{\"histogram2dcontour\":[{\"type\":\"histogram2dcontour\",\"colorbar\":{\"outlinewidth\":0,\"ticks\":\"\"},\"colorscale\":[[0.0,\"#0d0887\"],[0.1111111111111111,\"#46039f\"],[0.2222222222222222,\"#7201a8\"],[0.3333333333333333,\"#9c179e\"],[0.4444444444444444,\"#bd3786\"],[0.5555555555555556,\"#d8576b\"],[0.6666666666666666,\"#ed7953\"],[0.7777777777777778,\"#fb9f3a\"],[0.8888888888888888,\"#fdca26\"],[1.0,\"#f0f921\"]]}],\"choropleth\":[{\"type\":\"choropleth\",\"colorbar\":{\"outlinewidth\":0,\"ticks\":\"\"}}],\"histogram2d\":[{\"type\":\"histogram2d\",\"colorbar\":{\"outlinewidth\":0,\"ticks\":\"\"},\"colorscale\":[[0.0,\"#0d0887\"],[0.1111111111111111,\"#46039f\"],[0.2222222222222222,\"#7201a8\"],[0.3333333333333333,\"#9c179e\"],[0.4444444444444444,\"#bd3786\"],[0.5555555555555556,\"#d8576b\"],[0.6666666666666666,\"#ed7953\"],[0.7777777777777778,\"#fb9f3a\"],[0.8888888888888888,\"#fdca26\"],[1.0,\"#f0f921\"]]}],\"heatmap\":[{\"type\":\"heatmap\",\"colorbar\":{\"outlinewidth\":0,\"ticks\":\"\"},\"colorscale\":[[0.0,\"#0d0887\"],[0.1111111111111111,\"#46039f\"],[0.2222222222222222,\"#7201a8\"],[0.3333333333333333,\"#9c179e\"],[0.4444444444444444,\"#bd3786\"],[0.5555555555555556,\"#d8576b\"],[0.6666666666666666,\"#ed7953\"],[0.7777777777777778,\"#fb9f3a\"],[0.8888888888888888,\"#fdca26\"],[1.0,\"#f0f921\"]]}],\"heatmapgl\":[{\"type\":\"heatmapgl\",\"colorbar\":{\"outlinewidth\":0,\"ticks\":\"\"},\"colorscale\":[[0.0,\"#0d0887\"],[0.1111111111111111,\"#46039f\"],[0.2222222222222222,\"#7201a8\"],[0.3333333333333333,\"#9c179e\"],[0.4444444444444444,\"#bd3786\"],[0.5555555555555556,\"#d8576b\"],[0.6666666666666666,\"#ed7953\"],[0.7777777777777778,\"#fb9f3a\"],[0.8888888888888888,\"#fdca26\"],[1.0,\"#f0f921\"]]}],\"contourcarpet\":[{\"type\":\"contourcarpet\",\"colorbar\":{\"outlinewidth\":0,\"ticks\":\"\"}}],\"contour\":[{\"type\":\"contour\",\"colorbar\":{\"outlinewidth\":0,\"ticks\":\"\"},\"colorscale\":[[0.0,\"#0d0887\"],[0.1111111111111111,\"#46039f\"],[0.2222222222222222,\"#7201a8\"],[0.3333333333333333,\"#9c179e\"],[0.4444444444444444,\"#bd3786\"],[0.5555555555555556,\"#d8576b\"],[0.6666666666666666,\"#ed7953\"],[0.7777777777777778,\"#fb9f3a\"],[0.8888888888888888,\"#fdca26\"],[1.0,\"#f0f921\"]]}],\"surface\":[{\"type\":\"surface\",\"colorbar\":{\"outlinewidth\":0,\"ticks\":\"\"},\"colorscale\":[[0.0,\"#0d0887\"],[0.1111111111111111,\"#46039f\"],[0.2222222222222222,\"#7201a8\"],[0.3333333333333333,\"#9c179e\"],[0.4444444444444444,\"#bd3786\"],[0.5555555555555556,\"#d8576b\"],[0.6666666666666666,\"#ed7953\"],[0.7777777777777778,\"#fb9f3a\"],[0.8888888888888888,\"#fdca26\"],[1.0,\"#f0f921\"]]}],\"mesh3d\":[{\"type\":\"mesh3d\",\"colorbar\":{\"outlinewidth\":0,\"ticks\":\"\"}}],\"scatter\":[{\"fillpattern\":{\"fillmode\":\"overlay\",\"size\":10,\"solidity\":0.2},\"type\":\"scatter\"}],\"parcoords\":[{\"type\":\"parcoords\",\"line\":{\"colorbar\":{\"outlinewidth\":0,\"ticks\":\"\"}}}],\"scatterpolargl\":[{\"type\":\"scatterpolargl\",\"marker\":{\"colorbar\":{\"outlinewidth\":0,\"ticks\":\"\"}}}],\"bar\":[{\"error_x\":{\"color\":\"#2a3f5f\"},\"error_y\":{\"color\":\"#2a3f5f\"},\"marker\":{\"line\":{\"color\":\"#E5ECF6\",\"width\":0.5},\"pattern\":{\"fillmode\":\"overlay\",\"size\":10,\"solidity\":0.2}},\"type\":\"bar\"}],\"scattergeo\":[{\"type\":\"scattergeo\",\"marker\":{\"colorbar\":{\"outlinewidth\":0,\"ticks\":\"\"}}}],\"scatterpolar\":[{\"type\":\"scatterpolar\",\"marker\":{\"colorbar\":{\"outlinewidth\":0,\"ticks\":\"\"}}}],\"histogram\":[{\"marker\":{\"pattern\":{\"fillmode\":\"overlay\",\"size\":10,\"solidity\":0.2}},\"type\":\"histogram\"}],\"scattergl\":[{\"type\":\"scattergl\",\"marker\":{\"colorbar\":{\"outlinewidth\":0,\"ticks\":\"\"}}}],\"scatter3d\":[{\"type\":\"scatter3d\",\"line\":{\"colorbar\":{\"outlinewidth\":0,\"ticks\":\"\"}},\"marker\":{\"colorbar\":{\"outlinewidth\":0,\"ticks\":\"\"}}}],\"scattermapbox\":[{\"type\":\"scattermapbox\",\"marker\":{\"colorbar\":{\"outlinewidth\":0,\"ticks\":\"\"}}}],\"scatterternary\":[{\"type\":\"scatterternary\",\"marker\":{\"colorbar\":{\"outlinewidth\":0,\"ticks\":\"\"}}}],\"scattercarpet\":[{\"type\":\"scattercarpet\",\"marker\":{\"colorbar\":{\"outlinewidth\":0,\"ticks\":\"\"}}}],\"carpet\":[{\"aaxis\":{\"endlinecolor\":\"#2a3f5f\",\"gridcolor\":\"white\",\"linecolor\":\"white\",\"minorgridcolor\":\"white\",\"startlinecolor\":\"#2a3f5f\"},\"baxis\":{\"endlinecolor\":\"#2a3f5f\",\"gridcolor\":\"white\",\"linecolor\":\"white\",\"minorgridcolor\":\"white\",\"startlinecolor\":\"#2a3f5f\"},\"type\":\"carpet\"}],\"table\":[{\"cells\":{\"fill\":{\"color\":\"#EBF0F8\"},\"line\":{\"color\":\"white\"}},\"header\":{\"fill\":{\"color\":\"#C8D4E3\"},\"line\":{\"color\":\"white\"}},\"type\":\"table\"}],\"barpolar\":[{\"marker\":{\"line\":{\"color\":\"#E5ECF6\",\"width\":0.5},\"pattern\":{\"fillmode\":\"overlay\",\"size\":10,\"solidity\":0.2}},\"type\":\"barpolar\"}],\"pie\":[{\"automargin\":true,\"type\":\"pie\"}]},\"layout\":{\"autotypenumbers\":\"strict\",\"colorway\":[\"#636efa\",\"#EF553B\",\"#00cc96\",\"#ab63fa\",\"#FFA15A\",\"#19d3f3\",\"#FF6692\",\"#B6E880\",\"#FF97FF\",\"#FECB52\"],\"font\":{\"color\":\"#2a3f5f\"},\"hovermode\":\"closest\",\"hoverlabel\":{\"align\":\"left\"},\"paper_bgcolor\":\"white\",\"plot_bgcolor\":\"#E5ECF6\",\"polar\":{\"bgcolor\":\"#E5ECF6\",\"angularaxis\":{\"gridcolor\":\"white\",\"linecolor\":\"white\",\"ticks\":\"\"},\"radialaxis\":{\"gridcolor\":\"white\",\"linecolor\":\"white\",\"ticks\":\"\"}},\"ternary\":{\"bgcolor\":\"#E5ECF6\",\"aaxis\":{\"gridcolor\":\"white\",\"linecolor\":\"white\",\"ticks\":\"\"},\"baxis\":{\"gridcolor\":\"white\",\"linecolor\":\"white\",\"ticks\":\"\"},\"caxis\":{\"gridcolor\":\"white\",\"linecolor\":\"white\",\"ticks\":\"\"}},\"coloraxis\":{\"colorbar\":{\"outlinewidth\":0,\"ticks\":\"\"}},\"colorscale\":{\"sequential\":[[0.0,\"#0d0887\"],[0.1111111111111111,\"#46039f\"],[0.2222222222222222,\"#7201a8\"],[0.3333333333333333,\"#9c179e\"],[0.4444444444444444,\"#bd3786\"],[0.5555555555555556,\"#d8576b\"],[0.6666666666666666,\"#ed7953\"],[0.7777777777777778,\"#fb9f3a\"],[0.8888888888888888,\"#fdca26\"],[1.0,\"#f0f921\"]],\"sequentialminus\":[[0.0,\"#0d0887\"],[0.1111111111111111,\"#46039f\"],[0.2222222222222222,\"#7201a8\"],[0.3333333333333333,\"#9c179e\"],[0.4444444444444444,\"#bd3786\"],[0.5555555555555556,\"#d8576b\"],[0.6666666666666666,\"#ed7953\"],[0.7777777777777778,\"#fb9f3a\"],[0.8888888888888888,\"#fdca26\"],[1.0,\"#f0f921\"]],\"diverging\":[[0,\"#8e0152\"],[0.1,\"#c51b7d\"],[0.2,\"#de77ae\"],[0.3,\"#f1b6da\"],[0.4,\"#fde0ef\"],[0.5,\"#f7f7f7\"],[0.6,\"#e6f5d0\"],[0.7,\"#b8e186\"],[0.8,\"#7fbc41\"],[0.9,\"#4d9221\"],[1,\"#276419\"]]},\"xaxis\":{\"gridcolor\":\"white\",\"linecolor\":\"white\",\"ticks\":\"\",\"title\":{\"standoff\":15},\"zerolinecolor\":\"white\",\"automargin\":true,\"zerolinewidth\":2},\"yaxis\":{\"gridcolor\":\"white\",\"linecolor\":\"white\",\"ticks\":\"\",\"title\":{\"standoff\":15},\"zerolinecolor\":\"white\",\"automargin\":true,\"zerolinewidth\":2},\"scene\":{\"xaxis\":{\"backgroundcolor\":\"#E5ECF6\",\"gridcolor\":\"white\",\"linecolor\":\"white\",\"showbackground\":true,\"ticks\":\"\",\"zerolinecolor\":\"white\",\"gridwidth\":2},\"yaxis\":{\"backgroundcolor\":\"#E5ECF6\",\"gridcolor\":\"white\",\"linecolor\":\"white\",\"showbackground\":true,\"ticks\":\"\",\"zerolinecolor\":\"white\",\"gridwidth\":2},\"zaxis\":{\"backgroundcolor\":\"#E5ECF6\",\"gridcolor\":\"white\",\"linecolor\":\"white\",\"showbackground\":true,\"ticks\":\"\",\"zerolinecolor\":\"white\",\"gridwidth\":2}},\"shapedefaults\":{\"line\":{\"color\":\"#2a3f5f\"}},\"annotationdefaults\":{\"arrowcolor\":\"#2a3f5f\",\"arrowhead\":0,\"arrowwidth\":1},\"geo\":{\"bgcolor\":\"white\",\"landcolor\":\"#E5ECF6\",\"subunitcolor\":\"white\",\"showland\":true,\"showlakes\":true,\"lakecolor\":\"white\"},\"title\":{\"x\":0.05},\"mapbox\":{\"style\":\"light\"}}},\"xaxis\":{\"anchor\":\"y\",\"domain\":[0.0,1.0],\"title\":{\"text\":\"x\"}},\"yaxis\":{\"anchor\":\"x\",\"domain\":[0.0,1.0],\"title\":{\"text\":\"y\"}},\"legend\":{\"tracegroupgap\":0},\"margin\":{\"t\":60},\"barmode\":\"relative\"},                        {\"responsive\": true}                    ).then(function(){\n",
              "                            \n",
              "var gd = document.getElementById('b6233933-ccef-4df8-9f17-b91c6a3f2da3');\n",
              "var x = new MutationObserver(function (mutations, observer) {{\n",
              "        var display = window.getComputedStyle(gd).display;\n",
              "        if (!display || display === 'none') {{\n",
              "            console.log([gd, 'removed!']);\n",
              "            Plotly.purge(gd);\n",
              "            observer.disconnect();\n",
              "        }}\n",
              "}});\n",
              "\n",
              "// Listen for the removal of the full notebook cells\n",
              "var notebookContainer = gd.closest('#notebook-container');\n",
              "if (notebookContainer) {{\n",
              "    x.observe(notebookContainer, {childList: true});\n",
              "}}\n",
              "\n",
              "// Listen for the clearing of the current output cell\n",
              "var outputEl = gd.closest('.output');\n",
              "if (outputEl) {{\n",
              "    x.observe(outputEl, {childList: true});\n",
              "}}\n",
              "\n",
              "                        })                };                            </script>        </div>\n",
              "</body>\n",
              "</html>"
            ]
          },
          "metadata": {}
        },
        {
          "output_type": "stream",
          "name": "stdout",
          "text": [
            "0.9683070480927363\n"
          ]
        }
      ]
    },
    {
      "cell_type": "code",
      "source": [
        "X.shape, X_compressed.shape"
      ],
      "metadata": {
        "colab": {
          "base_uri": "https://localhost:8080/"
        },
        "id": "LdePlM2u9Dho",
        "outputId": "f58c5243-e0d5-4076-e5fd-dd0545e356eb"
      },
      "execution_count": null,
      "outputs": [
        {
          "output_type": "execute_result",
          "data": {
            "text/plain": [
              "((1797, 64), (1797, 34))"
            ]
          },
          "metadata": {},
          "execution_count": 29
        }
      ]
    },
    {
      "cell_type": "markdown",
      "source": [
        "# Model testing with raw data"
      ],
      "metadata": {
        "id": "qcaltgrg-23H"
      }
    },
    {
      "cell_type": "code",
      "source": [
        "model_repo = {\n",
        "    'lr': LogisticRegression(),\n",
        "    'rf': RandomForestClassifier(),\n",
        "    'gb': GradientBoostingClassifier(),\n",
        "    'svm': SVC()\n",
        "}"
      ],
      "metadata": {
        "id": "wa-2XNBW_pcQ"
      },
      "execution_count": null,
      "outputs": []
    },
    {
      "cell_type": "code",
      "source": [
        "# testing a model type\n",
        "my_model = myClassificationModel(model_repo['svm'])"
      ],
      "metadata": {
        "id": "mPrW42YOA54T"
      },
      "execution_count": null,
      "outputs": []
    },
    {
      "cell_type": "code",
      "source": [
        "cv_scores = my_model.cv_error(X, y)\n",
        "print('cross validation scores:', cv_scores)\n",
        "print('cross validation score (mean):', np.mean(cv_scores))\n",
        "print('cross validation score (std):', np.std(cv_scores))"
      ],
      "metadata": {
        "colab": {
          "base_uri": "https://localhost:8080/"
        },
        "id": "km_iBt4Z3Poc",
        "outputId": "d5f470de-e4b7-4d15-f379-5c4cf26ebcb4"
      },
      "execution_count": null,
      "outputs": [
        {
          "output_type": "stream",
          "name": "stdout",
          "text": [
            "cross validation scores: [0.96327212 0.97996661 0.96494157]\n",
            "cross validation score (mean): 0.9693934335002782\n",
            "cross validation score (std): 0.007507366479260984\n"
          ]
        }
      ]
    },
    {
      "cell_type": "markdown",
      "source": [
        "# Model testing with compressed data"
      ],
      "metadata": {
        "id": "7F37eJKv_RVV"
      }
    },
    {
      "cell_type": "code",
      "source": [
        "cv_scores = my_model.cv_error(X_compressed, y)\n",
        "print('cross validation scores:', cv_scores)\n",
        "print('cross validation score (mean):', np.mean(cv_scores))\n",
        "print('cross validation score (std):', np.std(cv_scores))"
      ],
      "metadata": {
        "colab": {
          "base_uri": "https://localhost:8080/"
        },
        "id": "8e1e5wjw-QG2",
        "outputId": "eeaa1810-fb82-4eb9-c18e-c134bdc33f2e"
      },
      "execution_count": null,
      "outputs": [
        {
          "output_type": "stream",
          "name": "stdout",
          "text": [
            "cross validation scores: [0.96661102 0.98163606 0.97161937]\n",
            "cross validation score (mean): 0.9732888146911519\n",
            "cross validation score (std): 0.006246506488771163\n"
          ]
        }
      ]
    },
    {
      "cell_type": "markdown",
      "source": [
        "Advantages:\n",
        "\n",
        "*   lower std\n",
        "*   half the data size (so gain in complexity both time and space\n"
      ],
      "metadata": {
        "id": "LGP-9kb4BkxM"
      }
    },
    {
      "cell_type": "markdown",
      "source": [
        "# How about plotting the data?\n",
        "- We will have hard time plotting 64D data matrix; right?"
      ],
      "metadata": {
        "id": "UT5mvTKqB4qI"
      }
    },
    {
      "cell_type": "code",
      "source": [
        "pca = PCA(n_components=2)\n",
        "X_2D = pca.fit_transform(X)"
      ],
      "metadata": {
        "id": "sjTGeBTF2i3F"
      },
      "execution_count": null,
      "outputs": []
    },
    {
      "cell_type": "code",
      "source": [
        "X_2D.shape"
      ],
      "metadata": {
        "colab": {
          "base_uri": "https://localhost:8080/"
        },
        "id": "qjLyf0p3CJlO",
        "outputId": "e5b42e07-2e6e-4567-fb64-b711cd9be1c9"
      },
      "execution_count": null,
      "outputs": [
        {
          "output_type": "execute_result",
          "data": {
            "text/plain": [
              "(1797, 2)"
            ]
          },
          "metadata": {},
          "execution_count": 26
        }
      ]
    },
    {
      "cell_type": "code",
      "source": [
        "df_2D = pd.DataFrame({'f1':X_2D[:,0],\n",
        "                      'f2':X_2D[:,1],\n",
        "                      'y':y})\n",
        "df_2D.head(2)"
      ],
      "metadata": {
        "colab": {
          "base_uri": "https://localhost:8080/",
          "height": 112
        },
        "id": "u3yw3g8ECMIJ",
        "outputId": "fd02da0c-39a3-4149-92ca-9be9a9b4eb76"
      },
      "execution_count": null,
      "outputs": [
        {
          "output_type": "execute_result",
          "data": {
            "text/plain": [
              "         f1        f2  y\n",
              "0  0.061137  1.378117  0\n",
              "1  0.375737 -1.354664  1"
            ],
            "text/html": [
              "\n",
              "  <div id=\"df-1e9a481a-f8e7-48c2-ba70-8d4ab8d0104d\" class=\"colab-df-container\">\n",
              "    <div>\n",
              "<style scoped>\n",
              "    .dataframe tbody tr th:only-of-type {\n",
              "        vertical-align: middle;\n",
              "    }\n",
              "\n",
              "    .dataframe tbody tr th {\n",
              "        vertical-align: top;\n",
              "    }\n",
              "\n",
              "    .dataframe thead th {\n",
              "        text-align: right;\n",
              "    }\n",
              "</style>\n",
              "<table border=\"1\" class=\"dataframe\">\n",
              "  <thead>\n",
              "    <tr style=\"text-align: right;\">\n",
              "      <th></th>\n",
              "      <th>f1</th>\n",
              "      <th>f2</th>\n",
              "      <th>y</th>\n",
              "    </tr>\n",
              "  </thead>\n",
              "  <tbody>\n",
              "    <tr>\n",
              "      <th>0</th>\n",
              "      <td>0.061137</td>\n",
              "      <td>1.378117</td>\n",
              "      <td>0</td>\n",
              "    </tr>\n",
              "    <tr>\n",
              "      <th>1</th>\n",
              "      <td>0.375737</td>\n",
              "      <td>-1.354664</td>\n",
              "      <td>1</td>\n",
              "    </tr>\n",
              "  </tbody>\n",
              "</table>\n",
              "</div>\n",
              "    <div class=\"colab-df-buttons\">\n",
              "\n",
              "  <div class=\"colab-df-container\">\n",
              "    <button class=\"colab-df-convert\" onclick=\"convertToInteractive('df-1e9a481a-f8e7-48c2-ba70-8d4ab8d0104d')\"\n",
              "            title=\"Convert this dataframe to an interactive table.\"\n",
              "            style=\"display:none;\">\n",
              "\n",
              "  <svg xmlns=\"http://www.w3.org/2000/svg\" height=\"24px\" viewBox=\"0 -960 960 960\">\n",
              "    <path d=\"M120-120v-720h720v720H120Zm60-500h600v-160H180v160Zm220 220h160v-160H400v160Zm0 220h160v-160H400v160ZM180-400h160v-160H180v160Zm440 0h160v-160H620v160ZM180-180h160v-160H180v160Zm440 0h160v-160H620v160Z\"/>\n",
              "  </svg>\n",
              "    </button>\n",
              "\n",
              "  <style>\n",
              "    .colab-df-container {\n",
              "      display:flex;\n",
              "      gap: 12px;\n",
              "    }\n",
              "\n",
              "    .colab-df-convert {\n",
              "      background-color: #E8F0FE;\n",
              "      border: none;\n",
              "      border-radius: 50%;\n",
              "      cursor: pointer;\n",
              "      display: none;\n",
              "      fill: #1967D2;\n",
              "      height: 32px;\n",
              "      padding: 0 0 0 0;\n",
              "      width: 32px;\n",
              "    }\n",
              "\n",
              "    .colab-df-convert:hover {\n",
              "      background-color: #E2EBFA;\n",
              "      box-shadow: 0px 1px 2px rgba(60, 64, 67, 0.3), 0px 1px 3px 1px rgba(60, 64, 67, 0.15);\n",
              "      fill: #174EA6;\n",
              "    }\n",
              "\n",
              "    .colab-df-buttons div {\n",
              "      margin-bottom: 4px;\n",
              "    }\n",
              "\n",
              "    [theme=dark] .colab-df-convert {\n",
              "      background-color: #3B4455;\n",
              "      fill: #D2E3FC;\n",
              "    }\n",
              "\n",
              "    [theme=dark] .colab-df-convert:hover {\n",
              "      background-color: #434B5C;\n",
              "      box-shadow: 0px 1px 3px 1px rgba(0, 0, 0, 0.15);\n",
              "      filter: drop-shadow(0px 1px 2px rgba(0, 0, 0, 0.3));\n",
              "      fill: #FFFFFF;\n",
              "    }\n",
              "  </style>\n",
              "\n",
              "    <script>\n",
              "      const buttonEl =\n",
              "        document.querySelector('#df-1e9a481a-f8e7-48c2-ba70-8d4ab8d0104d button.colab-df-convert');\n",
              "      buttonEl.style.display =\n",
              "        google.colab.kernel.accessAllowed ? 'block' : 'none';\n",
              "\n",
              "      async function convertToInteractive(key) {\n",
              "        const element = document.querySelector('#df-1e9a481a-f8e7-48c2-ba70-8d4ab8d0104d');\n",
              "        const dataTable =\n",
              "          await google.colab.kernel.invokeFunction('convertToInteractive',\n",
              "                                                    [key], {});\n",
              "        if (!dataTable) return;\n",
              "\n",
              "        const docLinkHtml = 'Like what you see? Visit the ' +\n",
              "          '<a target=\"_blank\" href=https://colab.research.google.com/notebooks/data_table.ipynb>data table notebook</a>'\n",
              "          + ' to learn more about interactive tables.';\n",
              "        element.innerHTML = '';\n",
              "        dataTable['output_type'] = 'display_data';\n",
              "        await google.colab.output.renderOutput(dataTable, element);\n",
              "        const docLink = document.createElement('div');\n",
              "        docLink.innerHTML = docLinkHtml;\n",
              "        element.appendChild(docLink);\n",
              "      }\n",
              "    </script>\n",
              "  </div>\n",
              "\n",
              "\n",
              "<div id=\"df-37bd840c-9c87-49b9-9ea5-c019b172312d\">\n",
              "  <button class=\"colab-df-quickchart\" onclick=\"quickchart('df-37bd840c-9c87-49b9-9ea5-c019b172312d')\"\n",
              "            title=\"Suggest charts\"\n",
              "            style=\"display:none;\">\n",
              "\n",
              "<svg xmlns=\"http://www.w3.org/2000/svg\" height=\"24px\"viewBox=\"0 0 24 24\"\n",
              "     width=\"24px\">\n",
              "    <g>\n",
              "        <path d=\"M19 3H5c-1.1 0-2 .9-2 2v14c0 1.1.9 2 2 2h14c1.1 0 2-.9 2-2V5c0-1.1-.9-2-2-2zM9 17H7v-7h2v7zm4 0h-2V7h2v10zm4 0h-2v-4h2v4z\"/>\n",
              "    </g>\n",
              "</svg>\n",
              "  </button>\n",
              "\n",
              "<style>\n",
              "  .colab-df-quickchart {\n",
              "      --bg-color: #E8F0FE;\n",
              "      --fill-color: #1967D2;\n",
              "      --hover-bg-color: #E2EBFA;\n",
              "      --hover-fill-color: #174EA6;\n",
              "      --disabled-fill-color: #AAA;\n",
              "      --disabled-bg-color: #DDD;\n",
              "  }\n",
              "\n",
              "  [theme=dark] .colab-df-quickchart {\n",
              "      --bg-color: #3B4455;\n",
              "      --fill-color: #D2E3FC;\n",
              "      --hover-bg-color: #434B5C;\n",
              "      --hover-fill-color: #FFFFFF;\n",
              "      --disabled-bg-color: #3B4455;\n",
              "      --disabled-fill-color: #666;\n",
              "  }\n",
              "\n",
              "  .colab-df-quickchart {\n",
              "    background-color: var(--bg-color);\n",
              "    border: none;\n",
              "    border-radius: 50%;\n",
              "    cursor: pointer;\n",
              "    display: none;\n",
              "    fill: var(--fill-color);\n",
              "    height: 32px;\n",
              "    padding: 0;\n",
              "    width: 32px;\n",
              "  }\n",
              "\n",
              "  .colab-df-quickchart:hover {\n",
              "    background-color: var(--hover-bg-color);\n",
              "    box-shadow: 0 1px 2px rgba(60, 64, 67, 0.3), 0 1px 3px 1px rgba(60, 64, 67, 0.15);\n",
              "    fill: var(--button-hover-fill-color);\n",
              "  }\n",
              "\n",
              "  .colab-df-quickchart-complete:disabled,\n",
              "  .colab-df-quickchart-complete:disabled:hover {\n",
              "    background-color: var(--disabled-bg-color);\n",
              "    fill: var(--disabled-fill-color);\n",
              "    box-shadow: none;\n",
              "  }\n",
              "\n",
              "  .colab-df-spinner {\n",
              "    border: 2px solid var(--fill-color);\n",
              "    border-color: transparent;\n",
              "    border-bottom-color: var(--fill-color);\n",
              "    animation:\n",
              "      spin 1s steps(1) infinite;\n",
              "  }\n",
              "\n",
              "  @keyframes spin {\n",
              "    0% {\n",
              "      border-color: transparent;\n",
              "      border-bottom-color: var(--fill-color);\n",
              "      border-left-color: var(--fill-color);\n",
              "    }\n",
              "    20% {\n",
              "      border-color: transparent;\n",
              "      border-left-color: var(--fill-color);\n",
              "      border-top-color: var(--fill-color);\n",
              "    }\n",
              "    30% {\n",
              "      border-color: transparent;\n",
              "      border-left-color: var(--fill-color);\n",
              "      border-top-color: var(--fill-color);\n",
              "      border-right-color: var(--fill-color);\n",
              "    }\n",
              "    40% {\n",
              "      border-color: transparent;\n",
              "      border-right-color: var(--fill-color);\n",
              "      border-top-color: var(--fill-color);\n",
              "    }\n",
              "    60% {\n",
              "      border-color: transparent;\n",
              "      border-right-color: var(--fill-color);\n",
              "    }\n",
              "    80% {\n",
              "      border-color: transparent;\n",
              "      border-right-color: var(--fill-color);\n",
              "      border-bottom-color: var(--fill-color);\n",
              "    }\n",
              "    90% {\n",
              "      border-color: transparent;\n",
              "      border-bottom-color: var(--fill-color);\n",
              "    }\n",
              "  }\n",
              "</style>\n",
              "\n",
              "  <script>\n",
              "    async function quickchart(key) {\n",
              "      const quickchartButtonEl =\n",
              "        document.querySelector('#' + key + ' button');\n",
              "      quickchartButtonEl.disabled = true;  // To prevent multiple clicks.\n",
              "      quickchartButtonEl.classList.add('colab-df-spinner');\n",
              "      try {\n",
              "        const charts = await google.colab.kernel.invokeFunction(\n",
              "            'suggestCharts', [key], {});\n",
              "      } catch (error) {\n",
              "        console.error('Error during call to suggestCharts:', error);\n",
              "      }\n",
              "      quickchartButtonEl.classList.remove('colab-df-spinner');\n",
              "      quickchartButtonEl.classList.add('colab-df-quickchart-complete');\n",
              "    }\n",
              "    (() => {\n",
              "      let quickchartButtonEl =\n",
              "        document.querySelector('#df-37bd840c-9c87-49b9-9ea5-c019b172312d button');\n",
              "      quickchartButtonEl.style.display =\n",
              "        google.colab.kernel.accessAllowed ? 'block' : 'none';\n",
              "    })();\n",
              "  </script>\n",
              "</div>\n",
              "    </div>\n",
              "  </div>\n"
            ],
            "application/vnd.google.colaboratory.intrinsic+json": {
              "type": "dataframe",
              "variable_name": "df_2D",
              "summary": "{\n  \"name\": \"df_2D\",\n  \"rows\": 1797,\n  \"fields\": [\n    {\n      \"column\": \"f1\",\n      \"properties\": {\n        \"dtype\": \"number\",\n        \"std\": 0.8408956475427731,\n        \"min\": -1.9062210641647739,\n        \"max\": 2.0326380225572245,\n        \"num_unique_values\": 1797,\n        \"samples\": [\n          0.9693045359681519,\n          -0.8327809850918897,\n          -1.3673275761087613\n        ],\n        \"semantic_type\": \"\",\n        \"description\": \"\"\n      }\n    },\n    {\n      \"column\": \"f2\",\n      \"properties\": {\n        \"dtype\": \"number\",\n        \"std\": 0.8034083397847398,\n        \"min\": -1.7437793919515656,\n        \"max\": 1.913921744612253,\n        \"num_unique_values\": 1797,\n        \"samples\": [\n          0.5741764646463111,\n          0.42775583778186377,\n          0.11104010916315517\n        ],\n        \"semantic_type\": \"\",\n        \"description\": \"\"\n      }\n    },\n    {\n      \"column\": \"y\",\n      \"properties\": {\n        \"dtype\": \"number\",\n        \"std\": 2,\n        \"min\": 0,\n        \"max\": 9,\n        \"num_unique_values\": 10,\n        \"samples\": [\n          8,\n          1,\n          5\n        ],\n        \"semantic_type\": \"\",\n        \"description\": \"\"\n      }\n    }\n  ]\n}"
            }
          },
          "metadata": {},
          "execution_count": 27
        }
      ]
    },
    {
      "cell_type": "code",
      "source": [
        "fig = px.scatter(df_2D, x=\"f1\", y=\"f2\", color=\"y\",\n",
        "                 title=\"String 'y(digits)' values mean discrete colors\")\n",
        "\n",
        "fig.show()"
      ],
      "metadata": {
        "colab": {
          "base_uri": "https://localhost:8080/",
          "height": 542
        },
        "id": "XSVEcM_4DWyj",
        "outputId": "161717f7-e882-402b-fb5e-c55dc30e0622"
      },
      "execution_count": null,
      "outputs": [
        {
          "output_type": "display_data",
          "data": {
            "text/html": [
              "<html>\n",
              "<head><meta charset=\"utf-8\" /></head>\n",
              "<body>\n",
              "    <div>            <script src=\"https://cdnjs.cloudflare.com/ajax/libs/mathjax/2.7.5/MathJax.js?config=TeX-AMS-MML_SVG\"></script><script type=\"text/javascript\">if (window.MathJax && window.MathJax.Hub && window.MathJax.Hub.Config) {window.MathJax.Hub.Config({SVG: {font: \"STIX-Web\"}});}</script>                <script type=\"text/javascript\">window.PlotlyConfig = {MathJaxConfig: 'local'};</script>\n",
              "        <script charset=\"utf-8\" src=\"https://cdn.plot.ly/plotly-2.24.1.min.js\"></script>                <div id=\"09c270cb-c2e7-4d5d-a833-ad493c936e4d\" class=\"plotly-graph-div\" style=\"height:525px; width:100%;\"></div>            <script type=\"text/javascript\">                                    window.PLOTLYENV=window.PLOTLYENV || {};                                    if (document.getElementById(\"09c270cb-c2e7-4d5d-a833-ad493c936e4d\")) {                    Plotly.newPlot(                        \"09c270cb-c2e7-4d5d-a833-ad493c936e4d\",                        [{\"hovertemplate\":\"f1=%{x}\\u003cbr\\u003ef2=%{y}\\u003cbr\\u003ey=%{marker.color}\\u003cextra\\u003e\\u003c\\u002fextra\\u003e\",\"legendgroup\":\"\",\"marker\":{\"color\":[0,1,2,3,4,5,6,7,8,9,0,1,2,3,4,5,6,7,8,9,0,1,2,3,4,5,6,7,8,9,0,9,5,5,6,5,0,9,8,9,8,4,1,7,7,3,5,1,0,0,2,2,7,8,2,0,1,2,6,3,3,7,3,3,4,6,6,6,4,9,1,5,0,9,5,2,8,2,0,0,1,7,6,3,2,1,7,4,6,3,1,3,9,1,7,6,8,4,3,1,4,0,5,3,6,9,6,1,7,5,4,4,7,2,8,2,2,5,7,9,5,4,8,8,4,9,0,8,9,8,0,1,2,3,4,5,6,7,8,9,0,1,2,3,4,5,6,7,8,9,0,1,2,3,4,5,6,7,8,9,0,9,5,5,6,5,0,9,8,9,8,4,1,7,7,3,5,1,0,0,2,2,7,8,2,0,1,2,6,3,3,7,3,3,4,6,6,6,4,9,1,5,0,9,5,2,8,2,0,0,1,7,6,3,2,1,7,3,1,3,9,1,7,6,8,4,3,1,4,0,5,3,6,9,6,1,7,5,4,4,7,2,8,2,2,5,5,4,8,8,4,9,0,8,9,8,0,1,2,3,4,5,6,7,8,9,0,1,2,3,4,5,6,7,8,9,0,1,2,3,4,5,6,7,8,9,0,9,5,5,6,5,0,9,8,9,8,4,1,7,7,3,5,1,0,0,2,2,7,8,2,0,1,2,6,3,3,7,3,3,4,6,6,6,4,9,1,5,0,9,5,2,8,2,0,0,1,7,6,3,2,1,7,4,6,3,1,3,9,1,7,6,8,4,3,1,4,0,5,3,6,9,6,1,7,5,4,4,7,2,8,2,2,5,7,9,5,4,8,8,4,9,0,8,9,3,0,1,2,3,4,5,6,7,8,9,0,1,2,3,4,5,6,7,8,9,0,1,2,3,4,5,6,7,8,9,0,9,5,5,6,5,0,9,8,9,8,4,1,7,7,3,5,1,0,0,2,2,7,8,2,0,1,2,6,3,3,7,3,3,4,6,6,6,4,9,1,5,0,9,5,2,8,2,0,0,1,7,6,3,2,1,7,4,6,3,1,3,9,1,7,6,8,4,3,1,4,0,5,3,6,9,6,1,7,5,4,4,7,2,8,2,2,5,7,9,5,4,8,8,4,9,0,8,9,8,0,1,2,3,4,5,6,7,8,9,0,1,2,3,4,5,6,7,8,9,0,1,2,3,4,5,6,7,8,9,0,9,5,5,6,5,0,9,8,9,8,4,1,7,7,3,5,1,0,0,2,2,7,8,2,0,1,2,6,3,3,7,3,3,4,6,6,6,4,9,1,5,0,9,5,2,8,2,0,0,1,7,6,3,2,1,7,4,6,3,1,3,9,1,7,6,8,4,3,1,4,0,5,3,6,9,6,1,7,5,4,4,7,2,8,2,2,5,7,9,5,4,8,8,4,9,0,8,9,8,0,1,2,3,4,5,6,7,8,9,0,1,2,3,4,5,6,7,8,9,0,1,2,3,4,5,6,7,8,9,0,9,5,5,6,5,0,9,8,9,8,4,1,7,7,3,5,1,0,0,2,2,7,8,2,0,1,2,6,3,3,7,3,3,4,6,6,6,4,9,1,5,0,9,5,2,8,2,0,0,1,7,6,3,2,1,7,4,6,3,1,3,9,1,7,6,8,4,3,1,4,0,5,3,6,9,6,1,7,5,4,4,7,2,8,2,2,5,7,9,5,4,8,8,4,9,0,8,9,8,0,1,2,3,4,5,6,7,8,9,0,1,2,3,4,5,6,7,8,9,0,1,2,3,4,5,6,7,8,9,0,9,5,5,6,5,0,9,8,9,8,4,1,7,7,3,5,1,0,0,2,2,7,8,2,0,1,2,6,3,3,7,3,3,4,6,6,6,4,9,1,5,0,9,5,2,8,2,0,0,1,7,6,3,2,1,7,4,6,3,1,3,9,1,7,6,8,4,3,1,4,0,5,3,6,9,6,1,7,5,4,4,7,2,8,2,2,5,7,9,5,4,8,8,4,9,0,8,9,8,1,2,3,4,5,6,7,8,9,0,1,2,3,4,5,6,7,8,9,0,1,2,3,4,5,6,7,8,9,0,9,5,5,6,5,0,9,8,9,8,4,1,7,7,3,5,1,2,7,8,2,0,1,2,6,3,3,7,3,3,4,6,6,6,4,9,1,5,0,9,5,2,8,2,0,0,1,7,6,3,2,1,4,6,3,1,3,9,1,7,6,8,4,3,1,4,0,5,3,6,9,6,1,7,5,4,4,7,2,8,2,2,5,7,9,5,4,4,9,0,8,9,8,0,1,2,3,4,5,6,7,8,9,0,1,2,3,4,5,6,7,8,9,0,1,2,3,4,5,6,7,8,9,0,9,5,5,6,5,0,9,8,9,8,4,1,7,7,3,5,1,0,0,7,8,2,0,1,2,6,3,3,7,3,3,4,6,6,6,4,9,1,5,0,9,5,2,8,2,0,0,1,7,6,3,2,1,7,4,6,3,1,3,9,1,7,6,8,4,3,1,4,0,5,3,6,9,6,1,7,5,4,4,7,2,8,2,2,5,7,9,5,4,8,8,4,9,0,8,9,8,0,1,2,3,4,5,6,7,8,9,0,1,2,3,4,5,6,7,8,9,0,1,2,3,4,5,6,7,8,9,0,9,5,5,6,5,0,9,8,9,8,4,1,7,7,3,5,1,0,0,2,2,7,8,2,0,1,2,6,3,3,7,3,3,4,6,6,6,4,9,1,5,0,9,5,2,8,2,0,0,1,7,6,3,2,1,7,4,6,3,1,3,9,1,7,6,8,4,3,1,4,0,5,3,6,9,6,1,7,5,4,4,7,2,8,2,2,5,7,9,5,4,8,8,4,9,0,8,9,8,0,1,2,3,4,5,6,7,8,9,0,1,2,3,4,5,6,7,8,9,0,1,2,3,4,5,6,7,8,9,0,9,5,5,6,5,0,9,8,9,8,4,1,7,7,3,5,1,0,0,2,2,7,8,2,0,1,2,6,3,3,7,3,3,4,6,6,6,4,9,1,5,0,9,5,2,8,2,0,0,1,7,6,3,2,1,7,4,6,3,1,3,9,1,7,6,8,4,3,1,4,0,5,3,6,9,6,1,7,5,4,4,7,2,8,2,2,5,7,9,5,4,8,8,4,9,0,8,0,1,2,3,4,5,6,7,8,9,0,1,2,3,4,5,6,7,8,9,0,1,2,3,4,5,6,7,8,9,0,9,5,5,6,5,0,9,8,9,8,4,1,7,7,3,5,1,0,0,2,2,7,8,2,0,1,2,6,3,3,7,3,3,4,6,6,6,4,9,1,5,0,9,5,2,8,2,0,0,1,7,6,3,2,1,7,4,6,3,1,3,9,1,7,6,8,4,3,1,4,0,5,3,6,9,6,1,7,5,4,4,7,2,8,2,2,5,7,9,5,4,8,8,4,9,0,8,9,8,0,1,2,3,4,5,6,7,8,9,0,1,2,3,4,5,6,9,0,1,2,3,4,5,6,7,8,9,0,9,5,5,6,5,0,9,8,9,8,4,1,7,7,3,5,1,0,0,2,2,7,8,2,0,1,2,6,3,3,7,3,3,4,6,6,6,4,9,1,5,0,9,5,2,8,0,1,7,6,3,2,1,7,4,6,3,1,3,9,1,7,6,8,4,3,1,4,0,5,3,6,9,6,1,7,5,4,4,7,2,2,5,7,9,5,4,4,9,0,8,9,8,0,1,2,3,4,5,6,7,8,9,0,1,2,3,4,5,6,7,8,9,0,1,2,3,4,5,6,7,8,9,0,9,5,5,6,5,0,9,8,9,8,4,1,7,7,3,5,1,0,0,2,2,7,8,2,0,1,2,6,3,3,7,3,3,4,6,6,6,4,9,1,5,0,9,5,2,8,2,0,0,1,7,6,3,2,1,7,4,6,3,1,3,9,1,7,6,8,4,3,1,4,0,5,3,6,9,6,1,7,5,4,4,7,2,8,2,2,5,7,9,5,4,8,8,4,9,0,8,9,8],\"coloraxis\":\"coloraxis\",\"symbol\":\"circle\"},\"mode\":\"markers\",\"name\":\"\",\"showlegend\":false,\"x\":[0.06113748917247947,0.3757374675534494,0.3705268255275565,-0.9970732722950789,1.4843986191873837,-0.8435201188665988,1.3086095120492944,-0.26136732535075136,-0.3408831063345657,-0.30083513279697954,0.8055156215523823,0.14438150835797012,-0.2079265866421737,-1.4666437188276944,1.581238597711265,-0.19723526571167432,1.0126221277132925,0.30756875899955677,-0.25375509204860086,-0.839773369016822,0.508628688364734,-0.036682868110028514,-0.5861381084671261,-1.2015144156501794,1.1354989227789527,0.34680191989070364,1.333421488187287,0.33933539237372684,-0.015462711969607532,-0.8766471885988354,0.1870931157360497,-0.8215417142080076,-0.3253142468879077,-0.4565786119558921,1.0974989574490635,-0.26357511428729474,0.46866068355665413,-0.8171424107589194,-0.058542277555386595,-1.2329486249917192,-0.34423832144044714,1.6001651711364346,0.1558303839660064,0.34488069340996563,-0.25903392378308,-1.2877662882896053,0.11462880176509711,0.06059592775541701,0.43839753884738714,0.36326080706818964,0.01439861983262017,0.35154545409696525,0.43413870375784275,0.0524496151644235,0.6344573941311725,0.7401439731443188,0.18143610870074509,0.3425269974329462,1.414049031223683,-1.258953068914912,-1.451390338850562,0.2734448879414606,-1.4796580620133228,-1.402525389097357,1.836486406224042,1.3499851751623932,1.3242899242025414,0.95853206275976,1.194308682037362,-0.5799484526025496,0.4416825299523606,-0.4085043642520742,0.5116977495010187,-1.1069490512040303,-0.09559843950086676,0.13829679211944743,0.08500062501584785,0.3535826730784889,-0.07837318827705933,0.06891495721387184,-0.053977662882895856,0.027461527119337976,1.331583604353179,-1.2808605987137325,-0.3079549919103512,0.38050786862074826,0.435532846133064,1.0825110223611403,1.3348783782745794,-1.4991172316849097,0.14559308225055542,-1.3734225619876648,-1.1891649324828375,0.6869958772962381,-0.07748965681337683,1.1869170281332884,0.1505377737236441,1.425143565706537,-1.5616289256132283,1.1344769440620392,1.4582223517673922,0.6471984544667588,-0.03579553727626384,-1.0287641475591123,1.5034102985151703,-0.9650584627761437,1.069620783181974,-0.07031078001572774,0.21242679021596525,0.003859666092295832,1.0642665604713684,1.1995950489887253,0.09522081199207792,-0.2127552857080483,0.1538580748705033,0.13198493361266103,-0.34612817167323534,-0.3054953975392071,-0.036680477468135284,-0.6871943682382139,-0.23204604489094718,1.0068374280443537,-0.10445890262578353,-0.33440671520540594,1.5664532030363805,-1.0099161535917631,0.5959015698198841,0.04412808657636561,-0.8778590653319935,0.1650994585184716,0.2604280279558396,-0.18524015475418548,-0.6274155486011803,-1.2810433189469705,1.110866342878527,-0.16509287486953894,0.9546582255235853,-0.004965637466903612,0.03515960785308785,-1.069074549176574,0.35536802388566313,0.18756434383372644,-0.7186237854814609,-1.6932679273207385,1.3605099491846429,-0.40385761589296165,1.1367976950646723,0.20858536577131348,0.2369816133821618,-1.0753306793939643,0.6076085368773003,-0.11317481989274786,-0.8297297342512105,-1.087464720682066,1.203392161971138,0.3800637914356768,1.2234278614071241,0.16887959287724658,0.3768646167858325,-0.9489519863732819,0.5233108137876814,-0.7649452256604901,-0.021603469655105633,0.2208410473381973,1.1791778457504,0.06902334865979262,0.4042233324693078,-0.8362270306503244,0.18732568236246966,-0.9943813730520381,0.1634404857864717,1.5098038726686454,-0.1234118044074807,-0.04379553180690431,-0.20790317998443375,-1.3826127083432285,-0.24980369192771323,-0.05040778664901984,0.32392492621074426,0.7695093474152003,-0.6860383896805974,-0.7099786033411786,-0.05091398549223252,-0.34707043385560904,-0.06355531099043271,0.7936109997549815,0.11654396326557805,-0.29267559782287234,0.9984951410043915,-1.6054310102394365,-1.2144520758174955,0.45990667894258597,-1.3237783047058242,-1.4495076662220625,1.2249657470715567,1.464445953046667,1.174105833444198,1.2334230752835722,1.2239391552011165,-0.5915941991087593,0.4188404234131968,-0.09939141208972223,0.5034294067492763,-0.8891520641335584,0.12230829734075813,-0.6241489985180992,-0.10489864097787033,-0.4335475481299297,1.0366342093173726,0.8258581000734133,0.1011580338668482,-0.044861106815603374,1.118903462729132,-1.3045630236986123,-0.423769348271314,0.02475909520207275,0.25256425242009833,-1.174531226302182,-0.06182659853675794,-1.2793896914801224,-0.8327809850918897,0.4386235867895683,-0.17974189011727792,1.1740936798131032,0.11093358830343293,1.5943692195294201,-1.141339270764846,0.22587578583885526,1.5129570902294245,0.16925302814464716,-0.10684713290749792,-0.8606573588805864,1.1420543440861075,-0.8182555224677807,0.6950125998664161,0.587691004983068,-0.09852477636663429,0.4119461503664693,1.2116613846678932,1.3214188610433835,0.25259216437973553,0.02811755187652953,0.23785293659265103,-0.1519811798496374,-0.359782400472124,0.18608560850825043,0.09767202151956941,1.0671884590981322,0.031057889400252604,-0.08766415992748931,1.3800620675292443,-0.48065557851360996,0.6265681015590787,-0.13991501789388316,-0.20417810358921595,0.28685907827596474,0.4777876670502425,0.5428874997940647,-0.7174467750019201,-1.21806189302665,1.3104614254369324,-0.6668652040857421,0.9596667535876462,-0.43035296675728607,-0.421449321507982,-0.5164748445804078,0.3322333651631089,0.4442891254074796,-0.7427783580924906,-0.9912244069030997,1.6630528189740794,-0.4899974408807121,1.1844242700057226,0.011788728905886448,0.05804180439884533,-0.32753399907295144,0.15995495846943136,0.7426944223652293,-0.8930621112495072,-1.404916361272175,1.4742730778845223,-0.5431441482206029,0.9915702479145004,0.4248016892215871,0.39369929440704665,-1.4051197005237364,0.4811289336675433,-1.0205986738330703,-0.43638117920606617,-0.3874998489594088,1.1102086931912574,-0.47854133392483544,-0.06576700967272332,-0.8911588524274058,-0.19019488179456157,-0.9135012050290499,-0.08567841907031677,1.761802283914776,0.7449662411355455,-0.3401052107613969,0.04870628614716031,-1.2835941918746916,-0.437456433885275,0.4912460524724824,0.3390743496757276,0.11249653083928024,-0.8406020473717614,-0.6902082414825894,-0.38398984454539786,-0.488180098821257,-0.9026452354598385,0.20217511975633434,0.301749738832055,-0.8451191484247542,0.38493242970401675,-1.0727725862161888,-1.2923259938495528,0.06774938579326352,-1.5847580115024362,-1.2895891420838117,1.8533749777054356,0.9292230589104055,0.9441316996390383,1.206205085972088,1.6633715569602399,-0.22971643218841312,0.5771990083773245,0.3434998526055457,0.23721712806163772,-0.4782630549966454,-0.3263328577715166,-1.0441458242536208,-0.2900331355127717,-1.0064414951446035,0.3585682475347118,0.13573221465862725,0.3723203757206319,0.10600531277087134,1.260806906387327,-1.2857060737181296,-1.059304471349313,0.308341180448385,0.00456842976454951,1.6494826123417572,0.9222317248409294,-1.5796651742675236,0.5425702367547472,-1.047734894537923,-0.441337761199267,0.48877642681053735,-0.20746017734927164,1.0984699465603058,0.09087007862286092,1.974674881399709,-0.6886726228754098,0.07616227217246872,1.2925803423342983,0.19714531400782037,-0.5705318331133719,-1.3754862426475143,1.1209182968520461,-0.5355942236424559,0.9881327928743041,0.8665801699542564,0.19342323124402575,-0.5082147026200241,1.9055338509219457,1.7737711053010323,-0.049748995400614594,-0.9060521703163108,-0.44312852132177705,-0.8015994082453431,-0.923180324224636,-0.7904806265129519,0.2967327443654017,0.08134388341215056,-0.2458992552022161,1.8426241112467343,-0.41315982539618334,-0.30814526438136003,1.6979689571822316,0.22135544733507956,0.2794291245440892,0.14710304086241527,-0.01935347578184542,-1.4885684082237236,-0.17537874406383236,-0.338285089369225,-0.5748226256299096,-1.3073764987337175,1.0918175641167658,-0.6476543009091882,1.3485673240073914,0.13998952048213373,0.003570513803295222,-1.1525281356826977,0.11796366498380043,0.10546153738356913,-0.48449297443081896,-1.0677306586709512,1.3349027832321767,-0.12384820578880452,0.9275711803773954,0.20764199844447073,-0.27845053378845125,-0.7993619979387162,0.42313153918575896,0.2664819641009614,-0.44628757543868613,-0.5034464927454105,1.353674463608811,-0.054534411896307665,1.0493043490951828,0.385248308425148,0.3574139277367538,-0.8493609212459373,0.5889824405953177,-0.6036797519070518,-0.9501898748387334,-0.21852444395875412,0.6965587691509668,-0.7255052720629082,-0.014785086997328877,-0.7787193043148375,-0.298027659618533,-1.226296995439352,-0.36251805204844756,1.1954706447729853,-0.08423535165808363,0.48807752114711644,-0.3302447235730032,-1.2696362430418815,-0.10602136321310977,0.050778546976800426,0.3359064324304524,0.46262851031202645,-0.714597197516093,-0.7981820514066198,0.14870263300640857,-0.41572683297840574,-0.8239595016460216,-0.1704156613345205,-0.07379516304717619,-0.7595720458331814,0.7157639565815003,-0.8657248119764879,-0.6784610499142596,0.40995862213771445,-0.8283379029420539,-0.7738782040551111,1.4093966793769548,1.2605754309441977,1.0816240921098828,1.137486011828329,1.2296821935238944,-1.2473829987150877,-0.06019554113884259,-0.25239599430907733,0.26205420307915417,-0.7006509880138865,-0.3543487813194934,-0.44150036829123207,-0.440729852656577,-0.6444163367628081,0.1068914017357201,0.15804007450551322,0.3274767491227221,0.5920388959238054,1.3274238445051019,-0.8267845812221681,-0.43900467218152256,0.7324454172076644,-0.38556965086182426,1.109651602560553,0.872799645058603,-0.7848713508194434,-0.0714168059184367,-1.0062767565805266,-0.6886309929220559,0.038850475747448925,-0.07833720698342127,0.8649905102651942,-0.10071878053029265,1.3288613645564213,-0.9639891335980841,0.05024903605085161,1.2757227698758407,0.31401862510621287,-0.46805003628344183,-0.7250285652561577,1.332872651633702,-0.35953009418598936,1.3109840448986738,0.14681652073683177,0.2986669297255398,-0.340403896566701,0.9551955813723126,1.3365325419204246,0.19007527743298824,-0.47726474712001093,-0.06247966928769876,-0.7742993857771951,0.1285677407535956,-0.014472400824389086,-0.12809340866248858,-0.6154299824035019,0.524523720720137,1.280175501125948,-0.17684335198392617,-0.00997826723121535,1.1234937661127127,-0.7283860328877749,0.1820635634887687,-0.32963148540096643,-0.8443013696371959,-0.5050962261964255,-0.07430751918144603,-0.13203090058949604,-0.22646986661687643,-0.8127159446159942,1.2206964808235772,-0.05938585387021055,0.9030816665601086,-0.45775099954442233,0.1870718923401795,-0.41939356513560516,0.14274647100688395,-0.08172380622905424,-0.36952683017966165,-1.174766747861186,0.7492610591167164,-0.5285395644782577,0.8357685628578891,-0.5362423888503346,0.1973590944812676,-0.45123978054452435,-0.2596091264574521,0.01313593965796198,-0.5299583236715564,-0.7575812058758233,1.4100612170669629,-0.7870475815708068,0.8926823680062362,-0.19154552485225654,-0.2733235917746097,-0.8014631934855383,0.16271790936236108,-0.3937440321409458,-0.7075210025861525,-0.6181679983280824,0.9131112458150966,-0.6271913200773322,-0.23876101800351598,-1.136337026560023,0.3645851123691002,-0.4782556487171967,-0.03527732877296028,1.2158723624456267,0.3912475144152326,0.19411081542151254,-0.33839749906256494,-1.1021154823049186,-0.7487928401981815,0.6760720742485727,-0.013321396152218303,-0.11578455775985182,-0.7045103945801234,-0.36223124734523354,-0.4158068670066466,0.18490665951784108,-0.8404947072639221,0.365919633355109,0.5309623272896564,-0.447233312712183,0.8467900969372258,-0.9108668185337889,-1.1691239857556441,-0.1489754183690115,-0.6464302721141175,-0.7065275797014672,1.571577854749062,0.8635421788677556,1.1953084858635366,0.8490823902498792,0.9043580747490751,-0.7757987468210723,0.7246685473401063,-0.4863420071711193,0.21765286854937077,-1.1369168713747402,-0.3929707422366504,-0.6996561484748968,0.0391554948348089,-0.8603811666582386,-0.4087934297844583,0.01868311225707917,0.430976327085592,-0.4252505070895923,0.94776012838368,-0.8689087478869202,-0.257543891050355,0.23624797435472192,-0.20533608745235726,1.0451250384299646,1.1340739905587638,-0.5931416867931626,0.4909012445067233,-0.49787191845357703,-0.5468196060299302,-0.06890612700399355,0.09345189924801416,1.0737401460538916,0.08776244276862381,1.202234581772354,-1.204616130943602,0.4036632780024892,1.2674584852132067,-0.3946355560898676,-0.6219243566858458,-1.039997421827874,1.1228045773682436,-0.5008693897536641,0.9784187234654776,-0.08043079156937762,-0.3649678295618604,-0.6168098605992781,1.0186984821604812,1.557194437112265,-0.2730890701306613,-0.553594193364329,0.3850286529404173,-1.260677885781733,-0.5150514766801542,-0.06206818017635362,-0.47614989573963046,-1.2273604225055184,-0.6795142622966173,0.7852020177661908,0.12015573502791278,0.15448331618384661,0.9636210400056466,-1.0459611795016013,-0.02296485588443466,0.09616913136212832,-0.7940704770093969,0.30993448583377525,0.3465830647677186,0.4978101454096501,-0.7743153318290003,-0.9877392503622833,1.4364076552999927,0.3146989080888903,1.0674253701637177,-0.15324631693824425,-0.37863367016937904,0.2006611235194253,0.04164142736927691,0.7429286823708058,-0.7081880345262439,-1.1117668648742511,1.6879663491590242,0.1474583386432335,1.237621782378549,0.0739588520509001,-0.06730272204803339,0.5124274962397564,0.6137945153745703,1.0442503595127122,-0.9420105880332101,-0.9332084655626538,1.103031216462652,0.027835458513751604,1.1018704063624885,0.22751312463829912,-0.19915177018711863,0.1667156015482074,0.4193916462509002,0.6952478034993229,1.196458203033605,0.338233048692528,1.342083229739952,0.5050890280320514,0.15966413404997915,0.06553970844758025,-0.25479595647372644,0.5614600035456154,-0.23515142506381292,1.1428661458859506,0.528593214337885,0.9101011906309073,0.48360500819650687,-0.6815018952004268,0.22118798393016867,0.5530773262045217,0.6214406025678528,0.08612495174730445,-0.9781884523723264,-0.7423777189855346,0.21964211374376733,-0.07295749641123885,-0.6738229916276912,0.9890395439402281,-0.09274142334489771,-0.62611173747152,0.7874459044960566,-1.4659325666929461,-1.3637411962640653,-0.006255441182183974,-1.46901937049269,-1.4732565988787085,1.0166122129626944,1.0173819274636775,1.0892980724634096,0.9978249385950159,1.3965843203897088,0.34896378213530077,0.8650371492573126,0.6601789929264631,0.6627563139873313,0.33271116639154164,0.7492794417928028,-0.9002089900914446,-0.21642934147118723,-0.44361165549712434,0.47545563008557157,0.3739553011359669,-0.08318008055595875,0.20560093126864862,1.1615089212311354,-1.2763624862399714,-0.6534434973908962,0.41725792106235365,0.6087877409479122,1.583535991264664,1.2340023484273344,-1.2964488317316747,0.5314932768749212,-0.35037050985326235,0.11160933277102202,0.7633552318919625,0.45133193009588957,0.9981791791625482,-0.03704556736515531,1.2404043740490112,-0.6184027233092232,0.8268572433859946,0.4611542028236122,0.38575015974228805,-0.20869182534432248,-1.1025642539786757,1.4527331377175154,0.6297716481261688,1.1279015006417141,0.5609616485774541,0.34229440453209753,-0.0038903445206643797,0.97368785980369,0.9778838253219794,0.8039434474183637,-0.9322978744273537,0.5753689454164187,-0.88881742363084,-0.8486302078406621,0.4510302212037749,-0.2211961389668047,0.60258474833808,0.23461242610398833,1.52803692746177,-0.1472530563679349,0.4148717120433865,0.8542746064020807,0.1621907929416485,0.3303066041921852,-0.061459093503701726,0.4971728237720599,0.20071570148300238,-0.07500451810346337,-0.0020447761690757624,-0.8196192924735204,-0.3521593418985281,1.788029501013939,-0.3627527361228103,0.6742013859182588,-0.20723553101251788,0.23346450562450818,-1.1432881725838608,-0.06950394408489985,-0.26924909615664383,-0.9623411569699288,-1.3385597832150125,1.8706660995439837,-0.1567498092671661,0.6204103097119026,-0.2722676589933021,0.497086462300233,-0.466006857463283,0.3725827472328036,0.11778540413352219,-0.7077615767822902,-1.3886732966350435,1.6635867209764157,-0.1663001223399569,0.9505344836343275,-0.5223727153143687,0.6016113888917344,-0.6373329031449109,0.3965360249372098,-0.9396702952827413,-0.6055829565452242,0.4474128512077817,0.7685560320851744,-0.40248120356992495,0.3722705973392538,-0.6572864234175033,-0.3674775696478597,-1.0103275816628305,-0.32276453909997926,1.8514398542099642,0.7164433842554264,-0.594041548220439,-0.250954230386643,-1.283810573181826,-0.17033333554420926,0.34753593129871957,0.23084763403425423,0.4513109623852714,-0.878207302865433,-0.05787119757650475,0.07671105223637907,0.09338858843722794,-0.6783662163387694,0.36626879135379825,-0.06991047526369017,-0.5628364963480503,1.2641322542025406,-0.9158540456497559,-0.8128318932321682,-0.5429799757463181,-1.1447655060970698,-1.0410493063884179,1.7328273990865248,1.2597590855962308,0.9168194994601818,0.7957004692136722,1.8214832440651567,-0.938362338796453,-0.0602072713038752,-0.26539546596095465,0.5532080180188369,-0.7072750015042427,-0.3347871980826235,-0.3400613846643,-0.4226723587843973,-0.2881796578362928,0.821181845615789,-0.1771778954338592,0.5689371163710688,-0.4084626532852132,1.263447135286655,-1.3384352586047743,-0.7969860906464435,0.4598651765290371,-0.003122668103774185,1.691389859668787,0.7560928905584465,-1.2264819179123856,0.4908812712956694,-1.3353192827800409,-0.7304453911465993,0.42076656570925336,-0.18040130192964043,0.8861047956966993,0.076328737702519,1.6298331805547734,-0.879627464494953,0.20248207763210277,1.626802314194422,-0.042384045495285974,-0.3546537276446573,-1.1028584483696902,1.1612904866065854,-0.9799081406455926,1.147492117439529,0.2615825157056077,-0.07872720253309837,0.02048388573247933,1.7232721132357907,1.8157466913658489,-0.22499199622172783,-0.3588746284719414,-0.12179171475568151,-0.47561854173176077,-0.8896054894235509,-0.6628881588264176,-0.574934777330065,-0.8330371128503309,-0.2238027354969513,1.879357186333279,-0.11479237265814782,0.027406170997166076,1.7197306893466318,-0.6185879677891881,0.5505344946627104,0.04315959645206745,-1.2270857074380426,0.5879170267817239,0.10107769162954425,-0.8729620757122586,-1.1663024678196816,1.8471144878235644,-0.5820556787302625,0.8621254237309114,0.30369731623276913,-0.5432014166171989,-1.1671556309029298,-0.08662575850560296,-0.20492011386794662,-0.5198880584963852,-1.0924987911786435,1.8802994236012271,-0.7651368648053076,1.0539846439092677,-0.25816717235196057,-0.6156529895274245,-1.1796882859993012,-0.14477249455759847,0.42680162820193007,-1.0945080744484277,-1.2484598015836281,1.3637302551577142,-0.770893790291332,0.7036110108742029,-0.017598099573416782,-0.45601009506208023,-1.3152389781777065,0.17561640641907653,-1.4746465704714982,-0.8648664063514095,-0.7996306753447061,1.02271573294373,-0.9396276051901996,-0.2515802961313971,-1.0225808827424876,-0.7034278479207047,-1.2548644423543385,-0.42633548300631385,1.4727006083520058,-0.5200136029894897,0.16508862331842156,0.13490535716446558,-0.8893027019052725,-0.863192969066444,-0.35574724481513725,-0.9962717961979136,0.09721527355479913,-0.7209104979730142,-0.8769463320828585,-0.13711294396415216,-0.06335569917500923,-0.7916044860229977,0.6783187842557774,-1.2466803124635486,-1.1895329178468355,-0.016235639403935496,-0.816556555119801,-1.0168796628955978,1.1159346351105053,1.137645065710327,0.9426397020016336,0.8771363555152558,1.296115632542166,-1.0852542086205978,-0.37242501292428665,-0.8446725870190035,-0.4876350940284501,-1.2659842935193792,-0.8533312481173215,-1.0605778117264735,-0.5183255241692389,-0.8366895681209648,-0.3029143989870891,-0.3065653159081549,-0.21280983090973749,-0.22347468432518994,0.7337165215999271,-0.4054942846878775,-0.8719370760768033,0.16184179654904854,1.4394809427762378,1.234489804010557,-1.3154486603052746,-0.19481357455192175,-0.7315469480890637,-0.7902778096991209,-0.2033646602653172,0.2803115137567849,1.0832647596160898,-0.38087231468709115,0.9458456710035641,-1.057295907951505,-0.2920102489811921,1.416583137624535,-0.10858444246943623,-0.7548792825400251,-1.0376946661436781,1.0337929096567562,-1.35157501311345,1.0554697640472015,-0.0750436693970703,0.16512654922523143,-0.7838468069091439,1.7533664122678747,1.3751910064156798,-0.14359165323971268,-0.821117996103649,-0.4787691734698925,-0.7576594544734481,-0.9656679113723944,-0.6907332072854473,0.028334275960070338,-1.0129632947115026,-1.0127163978715747,0.8767510086832572,1.5569317683702368,-0.6270180885719979,-0.6392674996567077,-0.5726990220936352,-1.2743319100452775,-0.7233200629142832,0.2028600216518104,0.3234094628734649,-0.7953357208104566,-1.4143246793408322,1.0909930751939905,0.07528850586104346,0.8425461391497334,-0.40474284665509114,0.08257433590675983,-0.8087154943913055,0.38738675278011553,0.4430286439105917,-0.6060589541495802,-1.4369199918861437,0.9640448968697227,-0.33448446901423395,0.7724498261818906,-0.06189298101940038,-0.7859841221846628,-0.6377810325584415,0.24144568592074794,0.3864564541617943,-0.9837100106576054,-1.5119416376007115,1.372743312644236,-0.20121764221058078,1.1120104703349372,-0.12767855047061263,-0.5398809659610677,-0.7356733661549979,-0.044436943801996635,-0.48727152073914753,0.21648203687613213,0.044301646312456706,1.161917827703735,0.5474958563229965,0.5787135122196564,-0.7949938228272406,-0.31106691385980256,-0.4973284352653207,-0.2812351259414804,1.122875179715511,0.4528152405281554,-0.3790464462432917,-0.24247748129061036,-1.4809494576525382,-0.4107644316286032,0.6423111176108575,0.39628810362779576,0.10862276204800113,-0.4093779352996413,-0.6887710971113739,-1.013464224974522,-0.15234308860858553,1.00317247322826,-0.9373665714197352,1.0312626647657193,-1.8973899810545498,-1.7377242528512367,-0.33707671861042543,-1.7688803951070056,-1.7727118784048064,1.1647649848121613,0.9678999286390928,1.073557213716638,1.2409463936380685,0.29643227675993317,-0.5491801028112282,0.2787782083643714,0.27157127547566684,-0.07088748687784864,-0.7246561886860828,0.09592228271328539,-0.8496932743217847,-0.6668570892166662,-1.1963304472380407,0.2652465541338481,0.1418492091456799,0.6892363106968753,-0.3447254401995055,1.4693645774174828,-1.5273135356904508,-1.1356586205981194,0.17925590230517427,0.07559019421481694,1.105491276709896,1.1170156549243717,-1.711523413424721,-0.04351266196669679,-0.2560788694442238,-0.47118292892313796,0.3580314979386653,0.03549203719963366,0.8684790301543122,-0.439082923249987,1.2627646784795048,-1.6539740873248918,0.7850068703497468,1.5095029076621127,0.09458908185052453,0.0646951776222029,-1.6971569308342223,1.2037548355242484,-1.1675901217717901,0.9887566345679277,0.581790255355656,-0.5541455240060192,0.2934978337758501,1.709597567379053,0.9423181428281591,-0.20108375613753188,-1.0380332742549796,-0.3781618169453318,-0.4580708027554822,-0.603282910329865,0.09417197381678388,-0.5486767186058809,-1.059357453449256,0.6243309671948897,1.5413571132659558,-0.423819284162674,-0.556392728968598,1.1106500575513318,-0.14156402900066595,0.13158100704010414,-0.1173935911334488,-1.0877009532759874,-0.34212713116015697,0.15988453402740152,0.29779571697617174,-0.8563789608260436,-1.610927426831688,1.7112458451067107,0.023740479013358504,0.4132016176088211,-0.5043801595670575,-0.7642522247383736,-0.8106504608122854,0.27723487583956063,0.3603045934604695,-1.1180921254184244,-1.5608936469970764,1.797757791586409,-0.2948687635417349,1.1739958245090425,-0.13924393097099766,-0.06226511362248714,-1.0030662350726212,0.266972539999169,0.42378188763588803,-1.216980393666513,-1.5508866473692986,1.3681446898651612,-0.33708904524349353,1.1317342669762682,-0.07780280947432423,-0.30049347491193423,-0.32730245201982866,0.02329085329354624,-1.0381862049405057,-0.36915091790283644,-0.6460868222450368,1.1187506993588918,-0.49030473561974686,0.3507147265612142,-0.9400161334419681,-0.3264369868540661,-1.0610487910517479,-0.2474318391779673,1.8331232265956365,0.20171292735212795,-0.4271250379456805,-0.4583765339578588,-0.8495945458513302,0.5693538505410616,0.22293624860400957,0.1134700613614993,0.1314925513709317,-1.2516655767368077,-1.0410013713513764,-0.194500506757393,-0.21318869161812495,-0.9142137955502482,0.1549953100944975,0.2749849759734769,-1.2591655245314264,0.9013946062008412,-1.5752284864486437,-1.5094783680019028,-0.333969957507888,-1.4591633361915368,-1.7304269229049607,1.7359179676278145,0.9853972629504943,1.1991662623950183,1.2213651743352953,1.7796651641566412,-1.0048191612973916,0.5005522421775506,0.48041522578368934,0.2806015060499965,-0.8283700120643382,-0.35380492545582076,-1.3302710321374793,-0.6453723223257408,-1.1247852752092913,-0.14020090751236772,-0.09312757955364348,0.1852493772162607,-0.5589327364029502,0.8739719317415378,-1.5317967115418338,-1.2957652567648172,-0.09420109743293206,-0.2387084884472192,1.84408992622712,0.9693045359681519,-1.426657773653434,0.529736067686491,-1.3967711177398434,-1.1384700645017778,0.6432555188856803,-0.2252920752650556,1.0750353780725348,-0.7368119909329124,1.811971880199691,-1.4455459967348743,0.8308986676977418,1.915955931585042,0.2687977905220368,-0.3139067026730057,-1.5264276883572072,0.990286055011299,-1.315052895757674,1.0553632614512771,0.7942750540434481,-0.6174738069007921,-0.09736944070339884,1.5520300717525555,1.965162580529693,-0.10487451711175994,-0.6347537842351865,-0.15250945292104096,-1.0653662203475307,-1.453396513862039,0.2913318586777745,-0.5429137601922925,-1.102848347506906,-0.3235690590015366,1.844218248865246,-0.045364719944506415,-0.3414175747093745,1.0689370356260381,-1.3718235111508188,-0.08228522610137172,-0.42197048040137225,-0.6881846021015802,-0.37031737731982206,0.315511786024559,-0.06857294405020915,-0.7157345439389919,-1.9062210641647739,1.5192310394322566,-0.509408398233965,0.5535497757350905,-0.3888695475204317,0.10480110412045134,-1.2076475958155417,0.6572168978671721,0.32169802636094846,-0.5497797574017125,-1.558684979301263,1.366880884479882,-0.779879519325736,0.6403352467934235,-0.6040835576257237,0.014174370763663685,-1.256482227845166,0.47539401468921,-0.0774419229018286,-0.6576869309628179,-1.3117360816287809,1.168094581435586,0.14939615604173742,0.6974185662560062,-0.8539586167519553,0.10390279561163619,-1.1716314174298403,0.007620183639819636,-1.1210036784250876,-0.2983530443914025,0.09446729737393406,0.7549475725186042,-0.407548755329933,0.6566946250385889,-0.8152830086217215,-0.1736678626168383,-0.6624471682006268,0.09187815621172736,1.612864189707359,0.49071515958894857,-0.5972517825347855,-0.8479957910053137,-1.6378445092645755,-0.23179562021148764,0.1911067825135916,0.5608329598507726,0.5610051794031635,-1.0988707415360985,-0.88852798333403,-0.6971309732197796,-0.12679464080961483,-0.7619711672506665,0.1268607767809414,0.1610698121832281,-0.9317262831592188,1.0741543831674962,-1.1466772530863083,-1.464310921701457,-0.43949247796168844,-1.5325598561100753,-1.7013131486043074,1.5189055900489206,0.8358426606015477,0.8799542344947586,0.9424768364004823,1.8895602156979674,-0.8591619074766409,0.10805237547628589,0.0457357294682989,0.4320444456254394,-1.1365018972002277,0.5741262010733673,-1.1639026734864195,0.13065057744858677,-0.7271387959789468,0.0578710477322999,0.07754214072372807,0.2476862333178286,-0.5936169417937938,0.8512011914371002,-1.563197463517934,-0.6895197722776611,-0.03428472371595786,-0.195098812575327,1.6200590881962558,1.0260452066775305,-1.4031887152013491,0.015230179287258738,-1.4710444337398463,-1.146786595367505,0.3260846070181021,-0.05023961994516545,0.7010574367370094,-0.5125149283153784,1.3885782643981353,-1.3601944156935453,0.5277571900411849,1.8530708721065592,0.47358507191764193,0.6158746384658061,-1.6450706369653876,0.7212385728115562,-1.0457658511780805,0.7146894603974547,0.5713213986423555,-0.23242861527736683,-0.168603002757736,1.6569774251831997,1.7384433433270416,-0.0004331532463445336,-0.8254690922427625,-0.5635024162795269,-0.9092987550519387,-0.9367777720302638,0.0033401763943405995,-0.4803944124346511,-1.1177880430223932,-0.7186119326687508,1.6706895895219889,0.2006105625990384,0.15720426200802806,1.863554615766516,-0.5629122841938514,0.672415015253477,-0.27926420155731,-0.32684502949670646,-0.29849059149214063,-0.6867619132189999,-1.0923434089317472,1.1628415012549318,-0.7378401797592335,0.8039832104574155,0.338218740923857,-0.7569831958400206,-1.2690818768706136,-0.11078381432025901,-0.30246611492956216,-0.4977170677711075,-1.3072340597585503,1.6374483419036474,-0.7479753951221771,0.7004742873894313,0.09425283127620748,-0.5017261443041505,-1.3563030629658344,0.020810025768124556,-0.17510490662417283,-0.9428179229117745,-1.1756882885653905,1.5968151669694768,-0.46785938757656625,0.7899556713862057,0.11992565881824054,-0.5345458181441801,-1.3198093923970673,0.09189518944863494,-1.4594090760442306,-0.7964707453286792,-0.8180264230292154,0.8852395340906404,-0.43319636510432113,0.015914627127458173,-1.2099272878242844,-0.23184464524907106,-1.3329706043421647,-0.4294292612095667,1.7299119056537853,-0.23423271161714296,-0.23098046945199657,0.32377541335990123,-1.3302528904153497,-0.9695340724137033,-0.3438476993403318,0.03827064650816574,-0.11922673029240151,-1.0710762683918709,-0.888945560914546,0.3714170631614705,0.2984272678374052,-0.9534891839878065,-0.15075176944151947,-0.4051571035167247,-0.8162257046511164,0.7764552975780128,-1.1646922212670985,-1.2366483529268546,-0.10761486421898403,-1.4396885573766927,-1.7111897093012174,1.497111683998429,1.064283688668517,0.7520067935375144,1.1200264191115676,1.6489172479390724,-1.2913551355654684,-0.3826401599598192,-0.33461420662503677,-0.17781121831873986,-1.5099396966526928,-0.1787823315557752,-0.8369177293602754,-0.4354705893783317,-1.0087455450838867,-0.2346936935857764,0.06647531257072344,-0.38017917501334253,-0.30721061153291435,1.0025219862139843,-1.2803093477938154,-0.4946465244108245,-0.5134776507628696,-0.1401490421756512,1.7098423633358344,0.9502871437966509,-1.3712479963663606,-0.16515165151997363,-1.3069931549990434,-1.1038741518709863,-0.4083980706611027,-0.1694539722033717,0.9762712436001127,-0.3517270139533453,1.6033646039594889,-1.1746372452341152,-0.2293633156947777,1.5427238658025633,-0.01963642881976761,-0.8569314010693737,-1.3673275761087613,1.1254505701281259,-1.4687320687417476,1.1884753684931804,-0.42652304112981504,0.09286424193146493,-0.8708600374864236,1.7167097388126302,1.1771998786739257,-0.054113944697334194,-1.1652178946579514,-0.029070776930122565,-1.2129496478718123,-0.7933882752300598,-0.2668979161623952,0.12827476832174078,-1.3434645669514278,-0.5137895846243133,1.7151510455972596,0.08415356722884972,-0.25293919717568436,1.723731205133079,-0.9893467106862647,-0.07287131195619029,0.16134706334766277,-1.1806500130433253,-0.031036222015302584,0.5669379150969972,0.4830941584181285,-0.37297367956229016,-1.0687460355112732,1.4068014327717557,0.16429434511737773,0.36438662110096165,-0.5758983501089272,0.5829829551124048,0.07790722799322927,0.5429551753113101,0.4635932764265012,-0.23849275869700082,-1.101089505156749,1.5137638594779357,0.7403178628253336,0.9443683087680708,-0.5213023688068339,0.582894297753294,1.007282910934103,-0.3256039521978213,-1.48010170667481,1.3126052127697094,-0.04634100133957276,1.1280757987247667,-0.6108759350578052,0.14554998781827452,-0.31477731654557517,1.2680096301821857,-0.21311640147367875,-0.3017547424653853,-0.0631389152224649,1.0614660615885645,0.4401406782313347,0.38757804469931545,0.008383123013235964,0.9371490253363831,-0.5361592499539063,0.2342432108451011,1.735466012067024,0.23094336661354087,-0.05587494084294832,-0.28099783926069355,-1.1606664180678978,0.06659921368270667,0.43082887149580884,1.0356368516191325,0.11008924782135475,-0.3828042871029999,-1.142383608906381,0.3671170060909028,0.11231980939452756,-0.27847381645519165,0.7623020210080801,0.9076684853463043,-0.7149369873145175,0.9649958505370974,-0.8614752931858128,-0.9853859240787031,-0.5348253457786267,-0.5649167816268684,-0.9671712879789238,1.0054691844283603,1.3236448388372617,1.3346854127240715,1.0785204598703504,-0.5415657041566149,-0.03702300763640728,0.7476989492622134,0.030085364958414598,1.166871126197783,-1.0636675084059661,0.44572323338012054,-0.5626783383970901,0.12216519497985787,0.33718178281845673,0.5035940641862413,-0.05431799084082588,0.971915375890971,-1.455430026820944,-0.6762385791511452,0.15825861105977668,0.015244778140730908,-0.1684076022863662,0.8703702765443655,-1.054437668031589,0.30394480593937795,-0.8737235642421427,-0.02197216605852618,0.39175715637345687,-0.6684279113041776,1.1916392822215465,0.48789069250671024,1.8144404885105698,-1.3105331139838123,0.2368315825181213,1.6498429520341977,0.8282859035734432,0.2104630300003889,-1.2276745443268646,1.0652676648904191,-1.1075070877528697,1.2743351695627125,0.17591956672578082,0.48907198207895075,-0.13842005585633943,1.5076177000566413,1.0159567672325558,0.19840372701415387,-0.25734275052851124,-0.9242220097599831,0.5905372684550525,-0.21960252659638116,-0.7773709682288,0.47754804804996187,-0.5575487510378692,1.702302978010183,-0.1941807729909254,0.2915073916780606,0.5041259735627411,-0.039888074524500466,0.5528592156175145,-0.021920076203108287,0.5983407635173565,-0.882840875789299,-0.41762681022117687,0.8768336045501707,-0.2784029428871017,1.293493283132277,-0.26594843571626886,-0.680632565411815,-1.3111353303658266,0.13442744705517665,0.9251196929468168,-0.15072684734431369,-0.597116641380139,1.8552710810574191,0.11747128221732182,1.0554704869186966,0.5425285377002462,-0.13045601044623623,-1.1337163117533713,0.2738291713371503,0.6356532009119936,-0.5717840511968532,-0.3616545520849277,1.7763049406895552,0.5705358831204795,1.3882791077416126,-0.08217221662110112,-0.3568347934229513,-0.9854338169931586,0.13799102269616995,-0.9580966286587509,0.21419282351114938,0.08877176627286763,1.0480927504365163,-0.1712940697550291,0.7765380665273627,-1.288387771208913,0.027065782031838195,-1.350401170004096,-0.11088328535355665,1.732601127457022,0.4747024851935363,0.24445300220358293,0.19779924942688848,-0.3367783009417898,0.17094820988636775,0.5410671136002204,0.19378828938870846,0.35761277204514585,-0.4050882578120789,-0.828501236952014,0.22748720108063758,-0.4848659024775078,-0.530710778713722,0.672199891140459,0.5312650925013798,-0.3458159121573769,1.2696054734602176,-0.6122904510012985,-0.3829708342904358,0.19266575527856866,0.02637765694371342,-0.5741087255112586,1.8273762606711392,1.2992295572641612,1.1309821499848909,0.9054001194726223,1.588475545114667,-1.0476400007356657,0.5273688612876946,-0.161133535483149,0.23375077054166837,-1.1914404667963168,0.5019462241515644,-0.7477301114535115,-0.03046516913046891,-0.9906796074500257,0.3763000669837738,0.02478899873275381,0.7400560558755223,0.6455507991603445,1.4492946875493193,-1.0351553761300945,-0.6567757430585097,0.026110982387817793,0.7277713517930112,1.5523585007229446,1.4919970251124792,-1.2683821399146813,0.16009390402090898,-0.7009361360783737,-1.1116964300640653,0.9629448280367137,-0.1188839033724483,1.1356365994844446,-0.06643412520824798,1.8736122364236705,-0.1297642616926967,0.7147315229074066,1.5212008283139156,0.6941676181288533,-0.4487263977627848,-1.1961446346955038,1.4871177308381325,-1.1532556236650893,1.0538327485035657,0.5741508242491405,-0.3001712118756841,-0.009163188686425117,1.3113712646094897,1.7127856746718308,0.14496060256915064,-0.7394118070802564,-0.015391805692111626,-0.537382310628673,-0.5719361534912274,0.16758195399082843,0.17906783617892041,-0.9799617153379402,-0.1781554728429878,1.8385420478432768,0.10553698367366018,-0.09938661040244555,2.0326380225572245,-0.8230896960196512,0.5435022444620543,0.6131336712356242,-0.2303288414374742,-0.022902519738952597],\"xaxis\":\"x\",\"y\":[1.3781168333680585,-1.354664497819542,-0.6759754362766913,0.2501907109638293,0.16871065381614575,0.5661894045630713,0.1500753375175081,-1.2531889983227813,0.07024975057095356,0.5379466911506944,1.036883274251582,-0.7343351072886781,-0.3475567076130126,-0.0037757409228632447,0.09871393281539251,-1.0076729257728128,-0.2910785807636713,-0.7690393449535207,-0.8792422300928353,0.5813685199575906,1.2154210598644948,-0.6133812509930353,-0.574254238551969,-0.15199628947023933,0.22220620494684348,-0.387981030839658,0.32369560843362005,-0.2448735841046053,-0.47123941803911773,0.6354382984403555,1.6914097157615584,0.5198688010075194,-0.18968335046780987,-0.6757912216804363,0.06529394930212622,-0.5927724889894693,0.9843969159497951,0.6318296876723,-0.7300667663143897,0.9009083593648453,-0.6720143663761601,-0.04004327856267405,-0.5638762216742655,-0.5981183768323058,-1.0878005118006984,0.29240545210932783,-0.7453420365724179,-0.6524734719393175,1.2852803110053759,1.2962482973632852,-0.4442621397249494,-0.4782104065043379,-0.7584558675955685,-0.6267507872827167,-0.6084458884320018,0.8597470564450315,-0.5756733545013349,-0.7772989915364121,0.47628487906166506,-0.422293860453759,0.33978129752437947,-0.6874561205605328,0.16699587756863704,-0.4515800502657147,0.3737971940130537,0.517910272299861,0.3328958157140926,0.913713096484698,-0.3628861906104949,-1.1585525263240322,-0.7080915840315524,-0.3126657252556294,1.241769064426138,0.8113377720918421,0.03538666352548481,-0.5845228192758701,-0.7521498868643789,-0.8696368167683545,1.4517986193314705,1.512414393866916,-0.9418908115080477,-1.1627089864036253,0.2534791722327401,-0.20761051776118467,-0.23163642384104463,-1.3156174900866224,-0.18707074181022285,-0.9096420632301833,-0.04611189782004552,0.02507348586951908,-0.8561994971954878,-0.8215310239742685,0.8609458348392341,-1.3285238947187878,-1.0323603674779465,-0.45749857796251736,-0.6727211489990287,-0.04176227114788144,-0.18624174601054747,-1.3317894116767,0.23087732647814654,1.4102937445672226,-0.2657808375043773,-1.3743408856809947,-0.09602465095327029,0.8190665503475211,-0.25058580744524156,-0.5298646780489175,-0.6545632826821077,-0.46673259066602796,-0.13175987340949943,0.10337933872286645,-1.0510739422853579,-0.7032789112618518,-0.7404254439323581,-0.48435402029457836,-0.27612127823088894,-1.020393381140714,-0.9305625545603121,0.7925507832470305,-0.2194430175341161,-0.8005899383119349,-1.18627207291469,-0.965099335179584,-0.010948447651423767,0.050726770517101026,1.2916493380539649,-0.6942918075047789,0.9651170987358083,-1.0302094000526472,1.5133447826511364,0.3360605655615316,-0.528839316443573,-0.6253550238608823,-0.97954062312618,-0.8524462614610694,0.9192094957963762,-1.0763969643039435,-0.3585132307718914,0.9771164181012797,1.3556507300397536,-0.4032470932361593,-0.7311143481210577,0.18506775820818794,-0.7664220207061881,-1.1182962048275777,0.5030121345691349,-1.2640339867377524,-0.07059379612425086,0.8616144572538607,1.344168866767167,-0.08624062037252785,-0.8387495909068705,-0.38409613319369773,-0.8122060598729158,-0.18601633690272357,0.23645313128872605,-1.2108670641005423,-0.8166429480779049,0.8128621534086644,1.3212163782275224,0.5895299187838842,-1.0073599225354057,-0.7424751510113349,0.8058512949955114,-0.6872605782428663,1.4247789761299914,0.8612189740646032,-0.4561011085651891,0.880604574926146,-0.8392851867429596,-0.9294483067706116,-0.1207337202694499,-1.1574382930449905,-1.1369442731097583,-0.4187951895768497,-0.6272317030404916,0.32225323496687475,1.5204389802362162,0.9754611054439172,-0.6297587606893396,-0.7991735774609383,-1.3529573519014926,-0.07456589678839311,-0.3842665346503419,1.3111416146963477,-0.4223927409811026,-0.6172703999276065,0.6642446601920643,0.3756618072175902,-0.04345316968310631,-1.3526582394068065,0.3045596557685965,-0.02920021196360025,-0.7435986258492981,0.1540277788158619,0.6657648831037721,0.8838719246587685,-0.9308779769930844,0.7094629277265283,-0.6223762419552663,-0.799351690066762,1.5194053449915697,0.43867262548287683,-0.3020772319640466,-0.723252281868102,-0.9617593084380925,-0.8126041243693611,0.9798121053320372,1.2430879536151882,-0.2877650060674467,-1.4682444061229707,0.8254849438938663,-0.2953524858607933,-0.6367600521277188,-0.6411219682611777,-1.2514958515897927,-0.47598798556836064,0.06310989156501969,-0.4369950355630182,0.42775583778186377,-0.6901383765940171,-1.282189638777678,-0.03404314121544568,0.15273166626591272,-0.851978814390867,-0.4337306088782927,-0.6551175946718449,-0.9149375530971414,1.5962238870064187,-0.7200477413346066,-0.44520265524488173,0.7260974965882189,0.6732008880699265,1.2362883657998702,-0.5932310799837833,-1.26694885049501,-0.615645487616602,-0.933345580329441,-1.0789666472847033,-1.2917851921572785,-0.03119214751002003,-1.038410705294115,-0.12736452790420397,-0.7887238367690864,-0.7440151344137023,-0.8448141246288211,-0.5603333819441337,-0.4975884964368192,-0.5346036264981845,-0.896393899016413,0.8750675784952837,1.4285754662310526,-0.18959080815513957,0.5560445636870848,-0.3799217139500951,1.1784858244427205,-1.4145700166580915,-0.27483942566643227,0.2685144908733721,-0.1725012552196117,0.7574382217994923,0.8474769486759189,-1.2854067552021764,0.1181434879492064,-0.4656131786412701,1.3114521201504246,-1.2057611673985411,-0.43041487567790804,-0.009479506013234973,-0.3428277540756251,-1.0828833683416141,0.8069734615457638,-1.0688475550343965,-0.58815169195201,-0.9943912040334598,1.30887967721254,-1.1964156980141483,-0.32297980605154947,0.1523446040257621,-0.16649867890340964,0.1426819937903105,0.8249195255407011,-0.8666568658712093,-0.5192188292296377,0.681280092908015,1.1565302368591999,0.776145434786829,0.3691480065892484,0.8097970141924633,0.4685220392340301,0.9166553688432137,1.2343706977737348,0.5248518527710933,-0.11998427245087893,0.9810379074570318,-0.11516196744190857,0.14497294583854242,-1.3101613153659057,-1.0512339371492836,-0.7812633889846888,0.10347999431658622,0.1208235967378747,-1.1384333002017926,1.2667939407515318,1.571602116769942,-0.12782720689399912,-0.34546869379526224,-1.10752740989493,0.3113151423977292,-0.5415969146689241,1.3515534821811712,-0.7202484518837483,-0.25360985885297127,0.7711547117652202,-0.1834750565716139,0.004373608947328573,-0.9760925259852923,0.17487623602294666,-0.005086987887850992,0.06679149811886217,0.9264760505308205,0.794166388209369,0.5448083645767378,0.051955764304993164,-0.6363906131203504,-1.3713358781951617,0.029702435495147842,1.2955861732171676,-0.7750202629741608,0.20624197213229198,-0.4746455965887772,0.2851968249591173,-0.23413093939545027,1.5474495892055082,1.1352113439397464,-1.6381032876049717,-0.8677803107399167,0.15917584367899446,0.055956863010757765,-0.36403913387066705,-1.3377875224102747,-0.8493162664515665,-0.36520517237230843,0.9156719587066156,-0.033685337188048885,-1.5222601079007902,-0.14132388961461576,-0.2718170812225674,-1.4004578887660868,-1.0538726598747932,0.5598194002587078,-0.2974294608626799,0.3711048579278902,0.05114057832828268,-1.6056350396377583,-0.46120371095247775,1.2731119892174612,0.7989478670259079,0.3523379493052112,0.9545939513521413,-0.747351672443965,0.8570054646164059,-0.9099714382810531,-1.0741370163317194,-0.05214023834222834,0.4583249339617565,-0.15811417864505245,-0.9427342483037402,-0.2949517649061964,0.08923823609842639,-0.44252494451083546,-0.717801422179369,0.7670501680204085,-0.687521150849845,0.004261005421435102,-0.8966569486902035,-0.012568772581552626,0.5074765119854604,0.11990479338001002,-0.16891099712708002,0.5369027357393205,1.493957054500101,-0.7656257328577581,-0.4614321536835011,0.0018938053456419766,1.605429420104996,0.24009321895950703,-0.7335397979949354,0.24298520245318478,-0.32695229926620617,-0.12747421330207068,0.5571299137205152,-0.5001351924860308,-0.05760289885853477,0.7211816884166038,1.6058703581342915,-0.653086210356007,-0.13178853115714317,0.5619304153093422,-0.7122153671341269,-0.48929376842393035,0.43833644219676043,-0.3090587677461997,-0.4942959631324636,0.762201868312095,1.5048919658644566,-0.498552412028458,-0.4071976725318286,0.9140083677304639,-0.5921048651176842,-0.3642285237752485,0.524917212595307,-0.2869051467214492,0.4139410082715852,0.8018834681650558,1.0636792974443265,0.7491266122623842,0.13633536068483748,0.03605017041170852,0.6560327129176236,0.41301293847566317,1.4597841128384774,0.7046722284513641,0.11412319409403113,0.8589914131030332,-0.103144428127406,-0.4421767754865842,-0.17420206782877504,-0.08636253333420468,-0.97398069541065,0.49468738386014777,-0.24775233779067157,-0.49354792527814745,1.6631975599717328,1.3413578737192213,-0.3974869953674718,-0.5261692932027365,-0.408555642801508,0.21878961874706668,-0.29920572918508825,1.6907757981024123,-0.2747929501127888,-0.09374825408394623,0.3634976701057923,0.351825073628881,0.6413307223629056,-0.022479970146946353,0.6588601356653003,0.6079151834661848,-0.38243796030145055,0.668675227978431,0.38040792480175073,0.6289144781470047,-0.48172070001664585,0.8136433238974774,-0.47625578014202863,0.4743168373614155,1.2121047323522331,0.5231843252037779,0.04584754061703122,-0.6642278748177668,-0.17462577626593123,-0.5511092089108325,1.5402303873370264,1.6934645244646147,-0.8334605445822783,0.05894894216544603,0.41816492268970534,0.5500639078507313,-0.23011677880353534,-0.8194464472024308,-0.8233472327671892,0.019654741261110567,0.5635345089757046,0.5224755117746245,-0.6462334502833289,0.26844699411626466,0.6300851723421992,-0.6862553190706181,-0.07954757351545537,0.7479600034258881,0.5813000346599563,-0.3624479936789055,0.2438436468379364,-0.36951471795072044,-0.5144373182480747,1.4070693320526322,-0.16793693713743696,0.45699845724163274,0.5476767665954931,0.7131209527337699,-0.3496349367980326,-0.197006066080967,-0.3589331991723189,-0.12315777649917987,-0.22954179866830715,-0.34024874298600954,-0.11311388634323583,-0.3080517122388803,0.5036165376113749,-0.4470240798526716,-0.6346598876788686,-0.6229629857406443,-0.6596682266962786,0.9060797444012824,-0.1251418655419639,-0.1871275711261721,-0.2350302770580608,-0.5842840928231858,-0.7067766038184476,0.7016452668420353,1.430023505575559,0.5724887385616707,0.8905722039711396,-0.09500128627727776,1.5435505340869309,-0.42695898909458563,-0.24045277639746637,0.8972840028346057,-0.4528379043851415,0.4386357616069474,0.6325841728131252,-1.1222254805630105,-0.5095662200853429,0.7086618255036035,1.3989391912032558,-0.3270316886986719,-0.4755303755873228,0.47977614628590964,-0.49075998815016886,0.9802130713833298,0.8055411348333958,-1.3016378472138876,-0.2378259023355959,0.9630262572834476,1.2309922147763739,-0.500478501187621,-0.16486827181886546,0.17020415092358898,-0.17437554568603783,0.7723379429830161,0.9667960539003391,-0.8984139113532726,-0.15275574138214768,0.6560413203679221,1.4232919816237337,-0.25085899129591993,0.24179966890458957,0.9783362013377999,0.6056707821288673,0.8423965285354114,1.5138178613952478,0.9022080562408368,-0.13795963363561883,0.444281111741405,-0.39798658746827315,-0.22697723403040435,-0.34784946656629717,-0.981957032672179,-1.1746996166726769,0.4189954133126229,0.8537915658130362,-0.32172869749285465,1.5693423792134829,1.8952254404353392,-0.4970316814308827,-0.3547006140306381,-0.9706491175470892,-0.020761874284610446,-0.3144312359815628,1.344405765950408,-0.32313021488516175,-0.3763081710056162,0.4137128818487025,0.5533695556682213,0.7409276896283601,-1.1224511944664113,0.538561184559819,0.46547502475437064,-0.22997844089609265,0.8449757412916987,0.6365289972955502,0.916593190296839,-0.6071243939951881,0.9963971358673257,-0.19707971679925007,0.50556827186124,1.181638401989208,0.7372213005855097,0.9278915863881085,-0.2485862278012925,-0.10471663527902753,-0.18457527696329368,1.2211936241976686,1.2927124208945902,-0.4631163114874902,-1.233298822798559,0.6688862950653425,0.408785922262415,-0.09042368550832354,-0.39919301262434115,-1.2327187814819232,-0.46038140930448956,0.25904172119526786,0.1004309334582346,-0.24642407902200741,0.30949527625566986,0.9927668285180126,-0.6605546413180658,-1.1705545603978764,0.7641717598711838,-0.4373067136453512,-0.15423934394195118,0.3413279219796927,-0.8046226658418054,-0.2531158346451464,1.294800571020668,1.148297050605112,0.46432564590567715,0.6323561213993175,0.7651678887836215,0.7673386298768362,-0.4443635210843956,-1.192262067144192,0.47357491735915996,-0.011110130843212294,-0.13137962080142424,-1.0713220255021345,-0.5704489215800341,-0.19204627123621562,-0.5380883527514464,-0.3299444401694091,0.23538749737686926,-1.2916629772902222,0.8908633471205265,0.916840544356402,-0.4085010282904536,-0.10662176267242639,-0.69107579688867,-0.2915057255539544,1.1542730817054767,1.598384268725819,-0.45781184950627996,0.808554129589758,-0.45424646719773293,1.488875215210203,-1.6887563338957112,-0.36102510244532865,0.016744380970943707,-0.709768058705646,0.108702151982908,0.6435988268524722,-1.0193230788911896,0.07874021304670334,0.21984336225386752,0.7588180615628957,-1.114466401976028,-0.18999827135275396,0.6095719427157476,-0.6584410960529383,-0.014367532990119775,0.7157871439799148,-1.1175879426349036,0.22026737097698848,0.12312344226275612,1.3292001101996347,-0.8406300428529064,-0.14851414980191618,-0.13619969679455166,-0.23534494194909786,-0.18987953969020818,0.7044414508479305,-0.7539735133096853,0.21162255786678744,0.49028350068622367,1.1968958509363958,0.19405725169429922,0.1652405607508581,-0.8763001812798169,0.9816589119870659,-0.5425080984960976,1.5995161111875478,-0.2278487840381013,-0.16902029858227585,0.08658496910847105,0.01452201521015754,-0.6766445150698481,-1.420182539682762,-0.4502278973592653,-0.49728294523665895,0.5091804940780413,-0.6323998446769378,-1.2576173276021496,1.393165602904498,0.8496112305797721,-0.30691904007500714,-0.48663423237090137,-0.9488405142457874,-0.39757337051740305,-0.4795664494107499,0.5645177377151054,-1.5132704005649191,-0.1486550467409764,1.0054663574996066,0.5799043756780351,0.11857503661314582,-0.9721925769381725,0.5561605153118505,-0.1209473168966738,-0.3518349627422608,0.7908338477419835,0.3912983222279471,0.8444927360786496,-0.48350103104501113,0.0013836125275429683,-0.9782167921161916,0.33733600316545065,1.2535821272385368,-0.17605230916388767,0.08459505357326572,-0.5525072982287318,0.10845138922679855,-0.3747692400473566,1.12305883923416,1.443917830489535,-1.6189598426351757,-0.7806155540653502,0.8378600527874717,0.2859584617030999,0.051515762924002846,-0.9882020967579132,-0.5872595892186318,-0.4858928863617022,0.3696538962287366,0.420916647764205,-1.1243695900774404,-0.21159129235987506,0.22076738544075972,-1.2359993597225682,-0.8728289600412801,0.910293532740085,-0.5654523222758221,-0.3791580078406498,0.01989711678867592,-1.1726079243545486,-0.7185400639398969,1.410622583025883,0.42242355147877175,-0.4821413401554469,0.4737577072590241,-0.15494354305596372,0.34656025272511004,-1.434256402871674,-0.7191386252491171,-0.7081387451475541,-0.07735127539475087,-0.6527310409098267,-0.4837701797385387,-0.5789042839246856,-0.649272310080976,-0.43428704242807736,-0.5271127657519046,-0.5664970428611593,-1.1720193615267551,-0.012226707117899697,-0.0485136314801481,0.09665749300379242,0.3102783450906251,-0.36152945327076336,-0.7107763374427506,0.3021065158284616,1.0975753769706902,0.2633049568180718,-0.6719077912301018,-0.2480773334849635,1.277673709013565,-1.7154470625002285,-0.5689083905401032,0.11584700764792309,0.03122523698644171,-1.2429539701509138,1.2474185998601015,-0.9545486291654307,-0.027311220135481512,0.9775770767463325,1.7286939935474888,-1.2727531238724874,-0.6422595456758445,-0.020699276522283306,-0.39170853656941085,-0.5339647577896971,1.2045420096082249,-1.2765576819724174,-0.28169769470735534,1.004498221302801,1.1271812654189357,-1.6687033645291767,-0.3521315855543464,0.20213830711390576,0.05688320992790268,-0.6800519218425302,0.6082716170211669,-1.3368445637949267,-0.5522750979694406,0.9234023709563377,1.5829835198617002,1.0756327242988935,-1.3280846363571799,-0.8131926117346977,1.0551681209558854,-1.3366460358733125,1.4849713613320632,0.604406687844419,0.096105061568144,1.0387524929798644,0.25123095561744935,0.07966874250193767,-0.6765416534526105,-1.0594007780366306,-0.9784136754940613,0.10595983092187213,-1.0265645703849322,-1.2569454426915307,1.134852226185014,1.0964946241202298,-0.7385965425195464,0.2622471649574985,-1.0490454781770695,0.3273561540307054,-0.4555916240289576,1.377766705132325,-0.2783323934775012,-0.6013330645652607,0.21901137230334916,-0.3694868400060818,-0.31838357553573965,-1.194094674871452,0.05534443397254313,-0.33390729281500575,-0.12780132369895095,0.6460874322495296,0.8217581416587398,1.0228595540712198,-0.18169149884818958,1.156615814362317,-1.343134662918685,-0.8414002384948719,1.3918784536825284,0.7919053841090993,-1.0634648085858012,-0.32901126517830154,-0.4052928755992301,-0.22043477710575166,0.8030578289157997,1.3881905188946386,-0.9337724423407983,-1.1039681563582189,1.00580352128944,0.07350984191388893,-0.7066419745926771,-1.3035600696928502,-1.0032116381725724,0.7600606116167509,1.0004479964989847,0.0029504320344685285,-1.6633982729193173,0.17873144660691723,0.6035746229731315,-1.4868463759254291,-1.2989046586190889,0.9386165498024336,-0.2882496777203262,0.02052940506806662,0.13904639489074436,-1.6826568277745206,0.1266980751741906,1.463122922628689,-0.91147730572293,-0.03429801709004219,0.003828534081713991,0.9086340262089242,0.8798182993897798,-1.6372226721671834,-1.1302036802854976,-0.7829743913620484,-0.15812299294021487,-0.1587603897714156,-1.144378088300119,-0.26542261396801514,-0.3186231294819796,-0.3587291149703703,-0.3102186271730964,-0.8986705427780426,-1.1811511395134908,0.9818759526589312,-0.8290316907468163,0.08763401689979854,-0.18845323194156288,0.45348062492855495,0.4745220899241125,1.0947783150489465,1.3018415674765051,-0.2740137181913191,0.8845479992611767,-0.5274000125759013,-0.4578909750620411,-0.7235682315463553,0.6406397482482016,0.509358698855192,0.2486953885313729,1.002047549143552,-0.5052351333361838,0.3400628413615018,0.779627567880952,1.5896872160613145,-0.5148162819645734,-0.01690281162574434,0.5591983067713335,0.3550584258356219,0.8970608972233841,0.9428436177409107,-0.8373018707936334,0.05828040409820676,0.9829392326006813,1.4615742798516271,-0.4296780883712966,-0.681863505785271,0.46889828069583,0.32030149667632424,0.8919821062557028,0.8937125759685577,-0.7537162816012608,0.23271950900704708,0.6739216454282794,1.5422881676136782,0.9809059540815195,1.110906777146851,0.8556701753716139,0.9019787653879228,0.991851193736131,1.488935942827436,1.041197125993584,0.3468582097193755,0.9940193691998692,-0.09289647150648246,0.16422212954633367,0.04728661838334547,-0.8968883734498733,-0.7527255175047673,0.4370962383346617,1.147766071691088,0.10712500018216238,-0.858098666550673,-0.7709086135730219,0.26159191410006055,-0.354018797664012,1.4872168730329511,-0.07726770530158894,-0.6820985267719629,0.9691091783344913,0.3526446649276075,0.5947669042519211,-0.8338529285781253,0.7470891536495812,0.8481699802013632,0.3794707639678069,0.8603872700066814,0.8806224728080818,0.8191959391114995,-0.037134449491003155,0.7757714671965351,-0.25416324109178334,0.7649260423307487,1.5809578505992854,0.7304039136765127,0.9727002654613756,-0.1869476750895673,0.4236985530740152,-0.6434520386547596,1.2957126364129674,1.5394949396636965,-0.2067325071861244,-1.029690795409088,0.9321966037638615,0.9370823065530733,-0.7392412189059181,-0.38670727317128256,0.7880813738957559,0.3450684521291508,0.6239735911030142,-0.40441471287976494,0.7267390702118556,0.952040602612836,-0.4118536602742292,-0.865170602954235,0.626498051329008,0.33635636872777963,0.41807591323696375,0.33214543822461645,-0.13420129211407075,-0.16421836040635746,1.4897267914218113,0.28410132639314944,0.8306270312668423,0.8684591311248658,1.0045041328776847,0.9180595691696571,-0.13273204930948357,-0.7282233702067878,1.088627652401778,0.10609585850872233,0.28007277335656766,-0.8684425566983149,-0.36643529150108894,0.4475597928208728,-0.4385876369178756,-0.7199275688332091,1.2219136743061352,-0.8451642475431261,1.1170996614392295,0.8451496977556918,-0.25355848043713225,-0.26120994572658013,0.5243936128071447,1.3386102012963481,0.09369421104485533,0.7621499504620097,0.3296556189542917,1.348767686988087,-1.022814603812304,-0.30339561980960955,0.4572587621729623,-0.14758313168068746,-0.7389577840557133,0.9006359003838471,-1.058104209269161,-0.23691063308890764,0.014058338070371067,1.6481573411656607,-1.1339747303361036,-0.4812395171551403,0.44055401420794377,0.05605978730292392,-0.6244648970078117,1.1136509752570756,-0.9445748110754139,-0.9166609402486853,0.5329853731718726,1.413052243865978,-1.6309516125357544,-0.15574705396098112,0.32923574700273633,0.0031337107943648778,0.4419794962479286,0.6447634643645475,-0.8589815913522744,0.04629179118310587,0.5104011240734496,1.5205415209038065,0.04641350982489141,-0.3027727696188377,-0.4865953832357346,0.22441153483898854,-0.7103252326089332,1.5771737586265684,0.4711283898476639,-0.05228822529290881,0.3738841018395441,-0.3980478931256823,0.41174945856759027,-1.3013151421950488,-0.9079709827299546,-0.8545888113941734,0.30271192915666845,-0.023494095285018803,-1.491188610325833,1.1306281338745041,1.2391022912845804,-0.8994058202862748,-1.0578267624000846,-0.43273232899163344,1.7652573614931713,-0.8443943559159368,-0.2887558863053546,0.2961820696718017,0.6818634111179609,0.3717906799180218,-1.2142037856912533,0.6081889432699094,0.43053059179301983,-0.03393126160652802,0.6218023071137773,0.3598062285981662,0.5217639884970697,-0.4801781253954758,0.6935038374828857,-1.644030951646928,0.058268248959920416,1.427586233687347,-0.21466982591496256,-0.8011441853652495,-0.19869989065938803,-0.12525467461274845,0.05186334517605236,1.7799251354135066,1.913921744612253,-1.3153918346796007,-0.9387686638599119,0.28058432863659016,0.4213046621519492,-0.47579944827303267,-1.5425975531163254,-0.9607013497247456,-0.14002947909199873,0.5886735629081382,0.4204406002350024,-1.404697364280018,-0.771613391548561,0.313060460350025,-1.5195479961413734,-0.9459783467602255,0.632271526046161,-0.23275558708731708,-0.45530968931767885,0.5227084796668555,-1.096738382691002,0.10542611853567269,1.4024108131596404,-0.17144201448230323,0.420640029807703,0.3235100947657885,0.6832220309688429,0.8636356144810046,-1.4586412358086018,-1.1297626761752955,0.7012509506722266,0.4862995689634765,0.17006612906082869,-0.8889927393772118,-0.4124262196779547,-0.6054951395654101,-0.6279163214052267,-0.22562809198928857,-0.5995991542106203,-1.0800932079510792,0.13555510755431419,0.12373834636172969,0.13818602804293167,-0.3475078919721919,-0.27403374147938125,-0.4875997366970518,0.15056824107891104,1.6518252087625913,-0.7712833689325604,0.01614708689638371,-0.45834439691398127,1.4398029717804717,-0.9201192904451642,-0.44801436862877825,0.5029305650317542,0.022992335019018362,0.8798171547356569,1.149069177134798,-1.1043934798521693,0.1666125841066123,1.134200840636053,1.1735901286332546,-0.6805048092673871,-0.7493429334337007,0.2568888309702187,0.4882496822005596,0.7101404323143427,0.6997756148662989,-0.9889985429870561,-0.5851363584580471,0.7520167806834999,1.1146491112715697,-1.0448638328312696,-0.7780619192591843,0.8179113469871135,0.019476361722779976,-0.6833381634829042,0.6252773123010074,-0.9143697457250428,-1.0048917047952903,0.862048359307499,0.7874318362339208,0.9851837710659402,0.3538627439243719,-0.6086683229528237,0.6333092545728103,-1.0798761409928075,1.462729622383015,0.8945150353100724,-0.4873618380150693,0.8174456296182485,-0.6267814376237811,0.5462466666895763,-1.4479546906065262,-0.9797064331669482,-1.1758978192735774,-1.5566443292607364,0.5243594980149076,-1.060002466764538,1.4876331302577928,1.2715899350764917,-0.6425705963640352,-0.6595001376433204,-1.2385482990693708,-0.8323377592055381,-0.4814592910595516,1.0718838464809153,-1.7184886037590716,-0.5369538213636703,0.7620210726410224,0.9369619080680418,-0.22401097204668188,-1.1206671528517043,-0.034904391654850375,0.5739049630495762,0.696769349343853,0.5801838843729146,0.5763239206807579,0.5065135914414515,0.16399113420046935,0.8239564311084404,-1.1850379163106188,-0.4799333814215306,0.8822503848397005,0.6618860083897419,0.5027581623695415,-0.6737781422695489,-0.9744570828710502,-0.5044545120819145,0.7968704406950428,1.128393752533388,-1.7313431498959317,-0.9809367805818405,0.6945477783489025,-0.5500353093283576,-0.4012899755564666,-1.2678013163919446,-1.0297155496666397,-0.03369163699669491,0.5741764646463111,0.04987028068121711,-1.4984944177629742,0.060348193297048144,0.8331044505907931,-1.3162153898765825,-1.138343006846146,0.45455399760956355,-0.8803898640197402,0.32124034170944,0.16482813771928626,-0.6233014944134296,0.32404381163722673,1.1937690015940254,-0.6369483966914137,-0.6789990000309727,0.7182011462549441,0.8490442312232249,0.5926252265091605,-0.33071491962005073,-0.9913930459941601,-0.543754479360176,0.29849072433322626,0.4136889170974525,-1.0967602898156221,-0.07105818613723373,-0.40303734888129433,-0.3745719366068523,-0.6084694317591635,-0.14233126519881198,-1.2247242879830842,0.61458883063296,-0.5870856127967763,0.5313699395322399,-1.1162304133417422,-0.8046779308062512,0.08719757213280631,0.997470792730974,0.517054967235429,-1.0773226754883924,0.65401084500769,-0.82518129002893,1.4930287359089127,0.18131573704695006,-0.28639718147397797,0.14665937103426044,0.5736714406408044,1.0729632256676542,-0.02479636526494001,-1.123449720521713,-0.6580938371125656,0.9932504939702819,1.4983255406123777,-1.1158484436295428,0.022752023471970858,0.5451192606525493,1.0150063718251878,0.4314165363884776,0.051975392522553156,-0.9546431770159538,-0.8739940758255854,0.8655499773409668,1.726898425921913,0.5198709534257626,-0.2939950595390679,0.4725312997356229,0.3598540324095804,0.27281241215513796,0.46029604762251447,-1.018266893282921,-0.8710159112502808,0.9769169953780632,1.858554710123897,0.949338837390077,0.3137081459425759,0.22374272921124075,0.45985168778543883,-0.24300587817043062,0.8229982538410092,0.7995797869845374,-0.9253825985047786,0.7725305305568057,-0.9041564803505792,0.6816297440581841,-1.563293832832634,-0.6839905196058722,-0.8910957299203297,0.4424445584346059,0.40628430532538495,-1.7437793919515656,1.6344841954059142,1.5850877580388902,0.07932228076052483,0.6288207960179728,-1.0848377880524904,-0.8443602797965369,0.1266246148738974,1.5954427739854025,0.13930924135007228,0.18947104462271647,0.598527720242954,-0.0978440671119879,0.5480202522848141,-1.0928349144938803,0.7282522419090256,0.9138095477854364,0.5596952900599574,0.5776173242138724,0.6019171673277739,0.5616507115568998,0.2948048120761092,0.7797793987003206,-1.5798617200688334,0.8360565889863542,1.261999960610455,0.9389881065038482,0.39644069642241225,-0.4327336312507069,-0.46976953096714213,0.7594985552385974,1.4264580661152446,1.4423428852737938,-0.482630271390108,-1.1857895088764814,0.16008643492417127,0.245094597572961,-0.315036806334197,-1.2822143417258125,-1.1413833767576504,0.5416720580077312,0.17098962918480484,-0.4495805184879119,-1.6157519677109475,0.3230343655784126,0.9935136349830598,-1.5376229426010872,-0.898451094581354,0.0012855047113753896,-1.0110201587015757,0.7418869664608589,0.7056526785164924,-1.4691431223537432,0.021982235620442343,1.66596302411724,-0.2986426665122355,0.20814814149654548,0.39252251358083345,0.8225219308506028,0.8463987427548461,-1.2206100739843728,-1.031671723254374,-0.4634265153220417,0.6028627050619563,0.6004368947226114,-0.8726771817887167,0.41233210512466045,-0.7694878092697709,-0.12343778968696657,-0.12273558829836047,0.8478839609283623,-1.0573139067609534,0.6113644577510655,-0.0875657205417662,0.48180776136185216,-1.1718557352865404,-0.7236588150266143,0.4952121638342974,0.7552830637680531,1.0190933068123698,-0.7167417446645014,1.3113858378172303,-0.030408302007145505,-0.34174505108130426,0.38980137013736754,-0.22915082789398106,0.5285318998556547,1.0554145172492728,-0.6360590412126734,0.32649836671659305,0.7915086164087652,1.242363632145043,0.35953051946446785,-0.36111637521843587,0.5544102015932661,-0.12900663551577132,0.8786663085602817,1.1464784474382224,-0.5602771635849847,0.029905141150640607,0.8305805914941454,1.16142867281511,0.004877479831012075,-0.49859422421722366,0.12996991268124952,-0.2986473197815338,0.9849572962564574,1.1370573819224472,-0.7401963830107037,0.07083928340381704,0.8061420915227109,1.3146987420039895,0.9832216862674125,0.9228216957301191,0.8057684891027674,0.8866036591547919,0.8229585591633882,1.373898548813319,0.8739030718814936,0.31101978053247503,0.941008039338143,0.20126622839597635,-0.017884396610787206,0.734711729796498,-0.8318004247311478,-0.561427934287112,0.2953874911207467,0.9699271603592285,0.758116334957973,1.4541032967806506,1.3041337348229673,-0.7631634731119415,-0.5245833900198442,-0.6491630852421205,0.3229325942607746,-0.6120285572120062,1.8456738105357855,0.7323005270681919,-0.7135927761899861,1.4693008274823296,0.23819702453038624,0.4797297306286365,-0.9666726660904171,0.41067517216772215,0.4937048223311291,-0.22208675636442526,0.8631984174148817,1.1579210168879746,0.8229432382412027,-0.22290625733635727,0.9377312906558686,0.739965076589242,0.7640904966674101,1.6062258860389091,0.8220492058287014,0.6947222799837,-0.6980560976115464,0.06362280274257336,-0.6209093673750625,1.7540446937261416,1.32750105435458,0.985846814163956,-0.5934877624859958,1.1939398720908487,0.27926290541635884,-0.14729438922222404,0.06966268052161638,-0.790035075146742,-0.026702203985155482,1.0070821232284255,0.17188818980097478,0.060811364889972144,0.48661200878479927,0.9605902662883785,0.46223278512095567,-0.6368864937645979,1.029193917716414,-0.008508341358501452,-0.3153278498389945,0.5882555687321248,0.9710537379784736,-0.38938194498887124,1.4566978687535719,0.7563429389937402,0.11104010916315517,0.9355816035159789,0.7902983004011256,0.6965857296582185,0.36294312477421764,-0.461902364348489,0.8381868950930638,-0.07954008860386856,-0.49916738805807337,-0.7251150593518587,-0.6913858355059168,0.16258839711724976,-0.4613903208602416,-0.6780293307733041,0.765334147332913,-0.5913322465522992,0.9720273513604676,0.3327564936258034,-0.2384860355987151,-0.07856924940639327,-0.516454875708804,-0.432329031285202,0.42761048799801166,1.2697232712726547,-0.45389842156269006,0.7370161952685266,-0.22181534452583937,1.4855682163637878,-1.5440940291519665,-0.4262662924290214,-0.3311218753557051,-0.16659320600145383,-0.5746165020110995,-0.32887663960789093,-1.1672290047719796,-0.40969395808659803,0.2726235804259885,1.450470539142769,-1.2547009156365707,0.1897344048516655,-0.21148172160635687,-0.13396029316405073,-0.5420513913859994,0.16492655725557204,-0.19473372359535285,1.1542665345075256,-0.9999202369936572,-0.4116469861119007,-0.29096845147968325,-0.20670044552746836,-0.6854265412299214,-0.44078427499894823,-1.29163634507597,-0.34769885571699416,0.05635640461909999,0.1873596868897301,0.1457974109486466,-1.2397057546108918,-0.5347533367902488,0.2986422836126849,-0.6763385374734764,1.5493833512301165,-0.7068325307214034,-0.45993953211825683,-1.1255586410188319,-0.0029127761561027173,-0.040587801573054104,-1.6551930089653062,-1.0756550578523574,-0.9021191748998997,-1.4890298037985052,-0.01410533588672762,-1.5203278101525028,0.7161347775811139,0.8780393849654693,0.7500319985918193,-0.6737524176342312,-0.5406997476572746,-0.6259671348017706,0.21944690014273352,1.1810675652156823,-1.3610924284170818,-0.34479276133856746,0.03084729617253049,-1.289664958113873,-1.6416509485276498,-1.019160593937039,-1.237065682555533,-1.1274413721192997,-0.442920902510334,0.28224710394367325,-0.0698423930688694,0.3097724634000497,-1.0998286603696694,-0.06610540555761799,-1.5179173207290324,-0.8342568665967153,0.8745939653726436,0.8694849280520185,-0.42892333798297394,-0.022398275780572168,-0.4930644758633408,1.8292141022059833,-1.5112253124455677,-1.085346842499341,0.2907284456315053,-0.4619101916345748,-0.6164210024566525,-1.4546651050731865,-0.8944428195696521,-1.0620688192498113,-0.001687465525845696,-0.06189372958884749,-1.7106327327703807,-0.2529258739718544,-0.798833497098319,-1.6866129950927284,-0.9452671615143742,0.29146862913318117,-0.09085544212413321,0.14958052108887843,-0.2323365664291142,-1.707926847831423,-0.28289974729232564,1.2717441704793948,-0.7679988035148865,0.08851842149774906,-0.25795991947315455,0.9174967214471248,-0.2712870843095381,-1.556733293547925,-1.133186201347644,-1.059057154581745,-0.07944061736533554,-0.6664270892568133,-1.200120379766402,-0.5054184562925812,-0.09047081432150685,-0.4381887237438289,-0.8165952718284577,0.09989140268643623,-0.7778108480296905,-0.8388870112496392,-0.056051881877419406,-0.963718985306513,1.3305578753814842,-0.6155164301435926,-0.9663912877855892,-0.7418913415399988,1.3597045916275072,-0.6820734602523177,-0.5165451677142373,0.1321351442366524,-0.21764392732870166,0.6221529958688523,0.5303834111240655,-1.2765148567820828,-0.1721213259573876,0.9130761937863003,1.4834103760186061,-1.1502930969541416,-0.7192341708732741,-0.8431071764715711,0.15309850595084454,0.23201864870298722,0.8267390962166035,-0.7730317068512496,-0.6484508248999011,0.9174661855252237,1.2931202184194288,-0.7622158547164142,-0.6729131905555784,-0.31651039907563044,0.2208811610061447,0.5407720638171574,0.6164896976294985,-1.3801000310273412,-0.06381924434654938,0.861064192993626,1.5077917803810157,0.8562028819267049,0.11017027425524904,0.10008091313963564,0.8431986432437928,-0.13939596675371166,1.244203759064725,0.6513649055352576,0.2859235735353453,0.9674486047328893,-0.6079280048477679,0.04580685088973175,-0.8574093033749358,-0.8704455912413214,-0.9257932696920791,-1.2990699804192065,0.32178757728424195,-1.349335314237172,1.1824399657059304,1.4478984069376204,0.13833692895488842,-0.66517490442573,-1.0972621149814865,-0.7035589280844033,-0.23620769167595596,0.6417962837867176,-1.0951899432103986,-0.2480075591129851,0.6696469349826937,-0.6885274987098848,-0.9272373851575966,-1.0723205878161672,0.48265018193797415,-0.9060801881366038,-0.12827547436143705,0.30485852462966095,0.5869576068886606,1.2341477044596096,-0.0796984900998596,1.0518176730464832,-1.2255155413262422,0.4158043274503309,1.0796110827879883,0.7493203013516978,0.7483874158256547,-0.8129839438569002,-0.12198986305755534,-0.5854026631205429,1.143232051151062,1.144812937371663,-0.7758130300606637,-1.0059813950550838,0.44383261461076884,-0.902918850890705,-0.5243344371057997,-1.1437371197419792,-1.207871964537047,0.32147054232341193,0.18776109290146276,-0.3773006114177975,-1.44004582860008,-0.02556490927917949,0.9266908239023022,-1.0621005419707328,-1.2369049249645712,0.7436527030565299,-0.7765641494620817,0.6687692476274876,-0.24817020757507124,-0.892698668361598,0.13870808759826347,0.9912200640177552,0.85902133251407,-0.14464272069173562,-0.15058612025590495,0.44990774162842984,0.921032551576912,-0.9483153189826099,-1.4342209701257305,0.637421302260015,0.09291327222146385,0.028806221479569714,-1.1553939340727033,-0.6499181496735114,-0.081753055394329,-0.7840725024215462,-0.5087152039304813,0.731241523442137,-1.1501119846749328,0.6184382880424187,0.8951502335115208,0.38479292178037056,-1.176755151978461,-1.1807661549670325,0.049206624071909025,0.9525292941748942,1.290394281855971,-0.5219297034864114,0.8252744762057201,0.34818684294003094],\"yaxis\":\"y\",\"type\":\"scattergl\"}],                        {\"template\":{\"data\":{\"histogram2dcontour\":[{\"type\":\"histogram2dcontour\",\"colorbar\":{\"outlinewidth\":0,\"ticks\":\"\"},\"colorscale\":[[0.0,\"#0d0887\"],[0.1111111111111111,\"#46039f\"],[0.2222222222222222,\"#7201a8\"],[0.3333333333333333,\"#9c179e\"],[0.4444444444444444,\"#bd3786\"],[0.5555555555555556,\"#d8576b\"],[0.6666666666666666,\"#ed7953\"],[0.7777777777777778,\"#fb9f3a\"],[0.8888888888888888,\"#fdca26\"],[1.0,\"#f0f921\"]]}],\"choropleth\":[{\"type\":\"choropleth\",\"colorbar\":{\"outlinewidth\":0,\"ticks\":\"\"}}],\"histogram2d\":[{\"type\":\"histogram2d\",\"colorbar\":{\"outlinewidth\":0,\"ticks\":\"\"},\"colorscale\":[[0.0,\"#0d0887\"],[0.1111111111111111,\"#46039f\"],[0.2222222222222222,\"#7201a8\"],[0.3333333333333333,\"#9c179e\"],[0.4444444444444444,\"#bd3786\"],[0.5555555555555556,\"#d8576b\"],[0.6666666666666666,\"#ed7953\"],[0.7777777777777778,\"#fb9f3a\"],[0.8888888888888888,\"#fdca26\"],[1.0,\"#f0f921\"]]}],\"heatmap\":[{\"type\":\"heatmap\",\"colorbar\":{\"outlinewidth\":0,\"ticks\":\"\"},\"colorscale\":[[0.0,\"#0d0887\"],[0.1111111111111111,\"#46039f\"],[0.2222222222222222,\"#7201a8\"],[0.3333333333333333,\"#9c179e\"],[0.4444444444444444,\"#bd3786\"],[0.5555555555555556,\"#d8576b\"],[0.6666666666666666,\"#ed7953\"],[0.7777777777777778,\"#fb9f3a\"],[0.8888888888888888,\"#fdca26\"],[1.0,\"#f0f921\"]]}],\"heatmapgl\":[{\"type\":\"heatmapgl\",\"colorbar\":{\"outlinewidth\":0,\"ticks\":\"\"},\"colorscale\":[[0.0,\"#0d0887\"],[0.1111111111111111,\"#46039f\"],[0.2222222222222222,\"#7201a8\"],[0.3333333333333333,\"#9c179e\"],[0.4444444444444444,\"#bd3786\"],[0.5555555555555556,\"#d8576b\"],[0.6666666666666666,\"#ed7953\"],[0.7777777777777778,\"#fb9f3a\"],[0.8888888888888888,\"#fdca26\"],[1.0,\"#f0f921\"]]}],\"contourcarpet\":[{\"type\":\"contourcarpet\",\"colorbar\":{\"outlinewidth\":0,\"ticks\":\"\"}}],\"contour\":[{\"type\":\"contour\",\"colorbar\":{\"outlinewidth\":0,\"ticks\":\"\"},\"colorscale\":[[0.0,\"#0d0887\"],[0.1111111111111111,\"#46039f\"],[0.2222222222222222,\"#7201a8\"],[0.3333333333333333,\"#9c179e\"],[0.4444444444444444,\"#bd3786\"],[0.5555555555555556,\"#d8576b\"],[0.6666666666666666,\"#ed7953\"],[0.7777777777777778,\"#fb9f3a\"],[0.8888888888888888,\"#fdca26\"],[1.0,\"#f0f921\"]]}],\"surface\":[{\"type\":\"surface\",\"colorbar\":{\"outlinewidth\":0,\"ticks\":\"\"},\"colorscale\":[[0.0,\"#0d0887\"],[0.1111111111111111,\"#46039f\"],[0.2222222222222222,\"#7201a8\"],[0.3333333333333333,\"#9c179e\"],[0.4444444444444444,\"#bd3786\"],[0.5555555555555556,\"#d8576b\"],[0.6666666666666666,\"#ed7953\"],[0.7777777777777778,\"#fb9f3a\"],[0.8888888888888888,\"#fdca26\"],[1.0,\"#f0f921\"]]}],\"mesh3d\":[{\"type\":\"mesh3d\",\"colorbar\":{\"outlinewidth\":0,\"ticks\":\"\"}}],\"scatter\":[{\"fillpattern\":{\"fillmode\":\"overlay\",\"size\":10,\"solidity\":0.2},\"type\":\"scatter\"}],\"parcoords\":[{\"type\":\"parcoords\",\"line\":{\"colorbar\":{\"outlinewidth\":0,\"ticks\":\"\"}}}],\"scatterpolargl\":[{\"type\":\"scatterpolargl\",\"marker\":{\"colorbar\":{\"outlinewidth\":0,\"ticks\":\"\"}}}],\"bar\":[{\"error_x\":{\"color\":\"#2a3f5f\"},\"error_y\":{\"color\":\"#2a3f5f\"},\"marker\":{\"line\":{\"color\":\"#E5ECF6\",\"width\":0.5},\"pattern\":{\"fillmode\":\"overlay\",\"size\":10,\"solidity\":0.2}},\"type\":\"bar\"}],\"scattergeo\":[{\"type\":\"scattergeo\",\"marker\":{\"colorbar\":{\"outlinewidth\":0,\"ticks\":\"\"}}}],\"scatterpolar\":[{\"type\":\"scatterpolar\",\"marker\":{\"colorbar\":{\"outlinewidth\":0,\"ticks\":\"\"}}}],\"histogram\":[{\"marker\":{\"pattern\":{\"fillmode\":\"overlay\",\"size\":10,\"solidity\":0.2}},\"type\":\"histogram\"}],\"scattergl\":[{\"type\":\"scattergl\",\"marker\":{\"colorbar\":{\"outlinewidth\":0,\"ticks\":\"\"}}}],\"scatter3d\":[{\"type\":\"scatter3d\",\"line\":{\"colorbar\":{\"outlinewidth\":0,\"ticks\":\"\"}},\"marker\":{\"colorbar\":{\"outlinewidth\":0,\"ticks\":\"\"}}}],\"scattermapbox\":[{\"type\":\"scattermapbox\",\"marker\":{\"colorbar\":{\"outlinewidth\":0,\"ticks\":\"\"}}}],\"scatterternary\":[{\"type\":\"scatterternary\",\"marker\":{\"colorbar\":{\"outlinewidth\":0,\"ticks\":\"\"}}}],\"scattercarpet\":[{\"type\":\"scattercarpet\",\"marker\":{\"colorbar\":{\"outlinewidth\":0,\"ticks\":\"\"}}}],\"carpet\":[{\"aaxis\":{\"endlinecolor\":\"#2a3f5f\",\"gridcolor\":\"white\",\"linecolor\":\"white\",\"minorgridcolor\":\"white\",\"startlinecolor\":\"#2a3f5f\"},\"baxis\":{\"endlinecolor\":\"#2a3f5f\",\"gridcolor\":\"white\",\"linecolor\":\"white\",\"minorgridcolor\":\"white\",\"startlinecolor\":\"#2a3f5f\"},\"type\":\"carpet\"}],\"table\":[{\"cells\":{\"fill\":{\"color\":\"#EBF0F8\"},\"line\":{\"color\":\"white\"}},\"header\":{\"fill\":{\"color\":\"#C8D4E3\"},\"line\":{\"color\":\"white\"}},\"type\":\"table\"}],\"barpolar\":[{\"marker\":{\"line\":{\"color\":\"#E5ECF6\",\"width\":0.5},\"pattern\":{\"fillmode\":\"overlay\",\"size\":10,\"solidity\":0.2}},\"type\":\"barpolar\"}],\"pie\":[{\"automargin\":true,\"type\":\"pie\"}]},\"layout\":{\"autotypenumbers\":\"strict\",\"colorway\":[\"#636efa\",\"#EF553B\",\"#00cc96\",\"#ab63fa\",\"#FFA15A\",\"#19d3f3\",\"#FF6692\",\"#B6E880\",\"#FF97FF\",\"#FECB52\"],\"font\":{\"color\":\"#2a3f5f\"},\"hovermode\":\"closest\",\"hoverlabel\":{\"align\":\"left\"},\"paper_bgcolor\":\"white\",\"plot_bgcolor\":\"#E5ECF6\",\"polar\":{\"bgcolor\":\"#E5ECF6\",\"angularaxis\":{\"gridcolor\":\"white\",\"linecolor\":\"white\",\"ticks\":\"\"},\"radialaxis\":{\"gridcolor\":\"white\",\"linecolor\":\"white\",\"ticks\":\"\"}},\"ternary\":{\"bgcolor\":\"#E5ECF6\",\"aaxis\":{\"gridcolor\":\"white\",\"linecolor\":\"white\",\"ticks\":\"\"},\"baxis\":{\"gridcolor\":\"white\",\"linecolor\":\"white\",\"ticks\":\"\"},\"caxis\":{\"gridcolor\":\"white\",\"linecolor\":\"white\",\"ticks\":\"\"}},\"coloraxis\":{\"colorbar\":{\"outlinewidth\":0,\"ticks\":\"\"}},\"colorscale\":{\"sequential\":[[0.0,\"#0d0887\"],[0.1111111111111111,\"#46039f\"],[0.2222222222222222,\"#7201a8\"],[0.3333333333333333,\"#9c179e\"],[0.4444444444444444,\"#bd3786\"],[0.5555555555555556,\"#d8576b\"],[0.6666666666666666,\"#ed7953\"],[0.7777777777777778,\"#fb9f3a\"],[0.8888888888888888,\"#fdca26\"],[1.0,\"#f0f921\"]],\"sequentialminus\":[[0.0,\"#0d0887\"],[0.1111111111111111,\"#46039f\"],[0.2222222222222222,\"#7201a8\"],[0.3333333333333333,\"#9c179e\"],[0.4444444444444444,\"#bd3786\"],[0.5555555555555556,\"#d8576b\"],[0.6666666666666666,\"#ed7953\"],[0.7777777777777778,\"#fb9f3a\"],[0.8888888888888888,\"#fdca26\"],[1.0,\"#f0f921\"]],\"diverging\":[[0,\"#8e0152\"],[0.1,\"#c51b7d\"],[0.2,\"#de77ae\"],[0.3,\"#f1b6da\"],[0.4,\"#fde0ef\"],[0.5,\"#f7f7f7\"],[0.6,\"#e6f5d0\"],[0.7,\"#b8e186\"],[0.8,\"#7fbc41\"],[0.9,\"#4d9221\"],[1,\"#276419\"]]},\"xaxis\":{\"gridcolor\":\"white\",\"linecolor\":\"white\",\"ticks\":\"\",\"title\":{\"standoff\":15},\"zerolinecolor\":\"white\",\"automargin\":true,\"zerolinewidth\":2},\"yaxis\":{\"gridcolor\":\"white\",\"linecolor\":\"white\",\"ticks\":\"\",\"title\":{\"standoff\":15},\"zerolinecolor\":\"white\",\"automargin\":true,\"zerolinewidth\":2},\"scene\":{\"xaxis\":{\"backgroundcolor\":\"#E5ECF6\",\"gridcolor\":\"white\",\"linecolor\":\"white\",\"showbackground\":true,\"ticks\":\"\",\"zerolinecolor\":\"white\",\"gridwidth\":2},\"yaxis\":{\"backgroundcolor\":\"#E5ECF6\",\"gridcolor\":\"white\",\"linecolor\":\"white\",\"showbackground\":true,\"ticks\":\"\",\"zerolinecolor\":\"white\",\"gridwidth\":2},\"zaxis\":{\"backgroundcolor\":\"#E5ECF6\",\"gridcolor\":\"white\",\"linecolor\":\"white\",\"showbackground\":true,\"ticks\":\"\",\"zerolinecolor\":\"white\",\"gridwidth\":2}},\"shapedefaults\":{\"line\":{\"color\":\"#2a3f5f\"}},\"annotationdefaults\":{\"arrowcolor\":\"#2a3f5f\",\"arrowhead\":0,\"arrowwidth\":1},\"geo\":{\"bgcolor\":\"white\",\"landcolor\":\"#E5ECF6\",\"subunitcolor\":\"white\",\"showland\":true,\"showlakes\":true,\"lakecolor\":\"white\"},\"title\":{\"x\":0.05},\"mapbox\":{\"style\":\"light\"}}},\"xaxis\":{\"anchor\":\"y\",\"domain\":[0.0,1.0],\"title\":{\"text\":\"f1\"}},\"yaxis\":{\"anchor\":\"x\",\"domain\":[0.0,1.0],\"title\":{\"text\":\"f2\"}},\"coloraxis\":{\"colorbar\":{\"title\":{\"text\":\"y\"}},\"colorscale\":[[0.0,\"#0d0887\"],[0.1111111111111111,\"#46039f\"],[0.2222222222222222,\"#7201a8\"],[0.3333333333333333,\"#9c179e\"],[0.4444444444444444,\"#bd3786\"],[0.5555555555555556,\"#d8576b\"],[0.6666666666666666,\"#ed7953\"],[0.7777777777777778,\"#fb9f3a\"],[0.8888888888888888,\"#fdca26\"],[1.0,\"#f0f921\"]]},\"legend\":{\"tracegroupgap\":0},\"title\":{\"text\":\"String 'y(digits)' values mean discrete colors\"}},                        {\"responsive\": true}                    ).then(function(){\n",
              "                            \n",
              "var gd = document.getElementById('09c270cb-c2e7-4d5d-a833-ad493c936e4d');\n",
              "var x = new MutationObserver(function (mutations, observer) {{\n",
              "        var display = window.getComputedStyle(gd).display;\n",
              "        if (!display || display === 'none') {{\n",
              "            console.log([gd, 'removed!']);\n",
              "            Plotly.purge(gd);\n",
              "            observer.disconnect();\n",
              "        }}\n",
              "}});\n",
              "\n",
              "// Listen for the removal of the full notebook cells\n",
              "var notebookContainer = gd.closest('#notebook-container');\n",
              "if (notebookContainer) {{\n",
              "    x.observe(notebookContainer, {childList: true});\n",
              "}}\n",
              "\n",
              "// Listen for the clearing of the current output cell\n",
              "var outputEl = gd.closest('.output');\n",
              "if (outputEl) {{\n",
              "    x.observe(outputEl, {childList: true});\n",
              "}}\n",
              "\n",
              "                        })                };                            </script>        </div>\n",
              "</body>\n",
              "</html>"
            ]
          },
          "metadata": {}
        }
      ]
    }
  ]
}